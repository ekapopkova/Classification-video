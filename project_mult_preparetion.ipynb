{
 "cells": [
  {
   "cell_type": "markdown",
   "id": "9ee632e8",
   "metadata": {
    "papermill": {
     "duration": 0.022747,
     "end_time": "2024-10-18T10:07:25.854192",
     "exception": false,
     "start_time": "2024-10-18T10:07:25.831445",
     "status": "completed"
    },
    "tags": []
   },
   "source": [
    "# Проект: Классификация видеороликов \n",
    "\n",
    "Студия мультфильмов собирает статистику для оценки популярности различных проектов. И важно агрегировать данные по проектам, а не по отдельным роликам – агрегация статистики по проектам помогает принимать обоснованные бизнес-решения и увеличивать успех новых проектов.\n",
    "\n",
    "**Задача**:\n",
    "Нужно создать автоматизированное решение для определения принадлежности видеороликов к проектам на основе анализа текстового описания, субтитров и другой доступной информации.\n",
    "\n",
    "Тексты могут быть на разных языках, содержать ошибки и опечатки, а также иногда отсутствовать\n",
    "Ролики одного проекта могут размещаться на разных каналах\n",
    "Можно с помощью Youtube API использовать дополнительную информацию, но к сожалению не все ролики могут быть обогащены данными (например, лайвы и закрытые каналы)\n",
    "При разработке надо не только максимизировать метрику, но и создать наиболее гибкое и масштабируемое решение по возможности без ручной разметки\n"
   ]
  },
  {
   "cell_type": "code",
   "execution_count": 1,
   "id": "5667cfc7",
   "metadata": {
    "_cell_guid": "b1076dfc-b9ad-4769-8c92-a6c4dae69d19",
    "_uuid": "8f2839f25d086af736a60e9eeb907d3b93b6e0e5",
    "execution": {
     "iopub.execute_input": "2024-10-18T10:07:25.898838Z",
     "iopub.status.busy": "2024-10-18T10:07:25.898264Z",
     "iopub.status.idle": "2024-10-18T10:07:27.249903Z",
     "shell.execute_reply": "2024-10-18T10:07:27.248317Z"
    },
    "papermill": {
     "duration": 1.377764,
     "end_time": "2024-10-18T10:07:27.253054",
     "exception": false,
     "start_time": "2024-10-18T10:07:25.875290",
     "status": "completed"
    },
    "tags": []
   },
   "outputs": [
    {
     "name": "stdout",
     "output_type": "stream",
     "text": [
      "/kaggle/input/animation-reels-classification/sample_submission.csv\n",
      "/kaggle/input/animation-reels-classification/train.csv\n",
      "/kaggle/input/animation-reels-classification/test.csv\n",
      "/kaggle/input/multfilm/df_test_eng.csv\n",
      "/kaggle/input/multfilm/df_train_eng_full.csv\n",
      "/kaggle/input/multfilm/df_train_eng_r.csv\n",
      "/kaggle/input/fork-of-notebookc008874511/__results__.html\n",
      "/kaggle/input/fork-of-notebookc008874511/df_train_eng_full.csv\n",
      "/kaggle/input/fork-of-notebookc008874511/__notebook__.ipynb\n",
      "/kaggle/input/fork-of-notebookc008874511/__output__.json\n",
      "/kaggle/input/fork-of-notebookc008874511/custom.css\n",
      "/kaggle/input/fork-of-notebookc008874511/__results___files/__results___9_2.png\n",
      "/kaggle/input/fork-of-notebookc008874511/__results___files/__results___14_2.png\n"
     ]
    }
   ],
   "source": [
    "# This Python 3 environment comes with many helpful analytics libraries installed\n",
    "# It is defined by the kaggle/python Docker image: https://github.com/kaggle/docker-python\n",
    "# For example, here's several helpful packages to load\n",
    "\n",
    "import numpy as np # linear algebra\n",
    "import pandas as pd # data processing, CSV file I/O (e.g. pd.read_csv)\n",
    "\n",
    "# Input data files are available in the read-only \"../input/\" directory\n",
    "# For example, running this (by clicking run or pressing Shift+Enter) will list all files under the input directory\n",
    "\n",
    "import os\n",
    "for dirname, _, filenames in os.walk('/kaggle/input'):\n",
    "    for filename in filenames:\n",
    "        print(os.path.join(dirname, filename))\n",
    "\n",
    "# You can write up to 20GB to the current directory (/kaggle/working/) that gets preserved as output when you create a version using \"Save & Run All\" \n",
    "# You can also write temporary files to /kaggle/temp/, but they won't be saved outside of the current session"
   ]
  },
  {
   "cell_type": "markdown",
   "id": "36e8c899",
   "metadata": {
    "papermill": {
     "duration": 0.020087,
     "end_time": "2024-10-18T10:07:27.293501",
     "exception": false,
     "start_time": "2024-10-18T10:07:27.273414",
     "status": "completed"
    },
    "tags": []
   },
   "source": [
    "## Загрузим необходимые библиотеки и определим константыне величины"
   ]
  },
  {
   "cell_type": "code",
   "execution_count": 2,
   "id": "45cb1f54",
   "metadata": {
    "execution": {
     "iopub.execute_input": "2024-10-18T10:07:27.338436Z",
     "iopub.status.busy": "2024-10-18T10:07:27.337777Z",
     "iopub.status.idle": "2024-10-18T10:08:05.825423Z",
     "shell.execute_reply": "2024-10-18T10:08:05.823877Z"
    },
    "papermill": {
     "duration": 38.513691,
     "end_time": "2024-10-18T10:08:05.828367",
     "exception": false,
     "start_time": "2024-10-18T10:07:27.314676",
     "status": "completed"
    },
    "tags": []
   },
   "outputs": [
    {
     "name": "stdout",
     "output_type": "stream",
     "text": [
      "Collecting googletrans==3.1.0a0\r\n",
      "  Downloading googletrans-3.1.0a0.tar.gz (19 kB)\r\n",
      "  Preparing metadata (setup.py) ... \u001b[?25l-\b \b\\\b \b|\b \bdone\r\n",
      "\u001b[?25hCollecting httpx==0.13.3 (from googletrans==3.1.0a0)\r\n",
      "  Downloading httpx-0.13.3-py3-none-any.whl.metadata (25 kB)\r\n",
      "Requirement already satisfied: certifi in /opt/conda/lib/python3.10/site-packages (from httpx==0.13.3->googletrans==3.1.0a0) (2024.8.30)\r\n",
      "Collecting hstspreload (from httpx==0.13.3->googletrans==3.1.0a0)\r\n",
      "  Downloading hstspreload-2024.10.1-py3-none-any.whl.metadata (2.1 kB)\r\n",
      "Requirement already satisfied: sniffio in /opt/conda/lib/python3.10/site-packages (from httpx==0.13.3->googletrans==3.1.0a0) (1.3.1)\r\n",
      "Collecting chardet==3.* (from httpx==0.13.3->googletrans==3.1.0a0)\r\n",
      "  Downloading chardet-3.0.4-py2.py3-none-any.whl.metadata (3.2 kB)\r\n",
      "Collecting idna==2.* (from httpx==0.13.3->googletrans==3.1.0a0)\r\n",
      "  Downloading idna-2.10-py2.py3-none-any.whl.metadata (9.1 kB)\r\n",
      "Collecting rfc3986<2,>=1.3 (from httpx==0.13.3->googletrans==3.1.0a0)\r\n",
      "  Downloading rfc3986-1.5.0-py2.py3-none-any.whl.metadata (6.5 kB)\r\n",
      "Collecting httpcore==0.9.* (from httpx==0.13.3->googletrans==3.1.0a0)\r\n",
      "  Downloading httpcore-0.9.1-py3-none-any.whl.metadata (4.6 kB)\r\n",
      "Collecting h11<0.10,>=0.8 (from httpcore==0.9.*->httpx==0.13.3->googletrans==3.1.0a0)\r\n",
      "  Downloading h11-0.9.0-py2.py3-none-any.whl.metadata (8.1 kB)\r\n",
      "Collecting h2==3.* (from httpcore==0.9.*->httpx==0.13.3->googletrans==3.1.0a0)\r\n",
      "  Downloading h2-3.2.0-py2.py3-none-any.whl.metadata (32 kB)\r\n",
      "Collecting hyperframe<6,>=5.2.0 (from h2==3.*->httpcore==0.9.*->httpx==0.13.3->googletrans==3.1.0a0)\r\n",
      "  Downloading hyperframe-5.2.0-py2.py3-none-any.whl.metadata (7.2 kB)\r\n",
      "Collecting hpack<4,>=3.0 (from h2==3.*->httpcore==0.9.*->httpx==0.13.3->googletrans==3.1.0a0)\r\n",
      "  Downloading hpack-3.0.0-py2.py3-none-any.whl.metadata (7.0 kB)\r\n",
      "Downloading httpx-0.13.3-py3-none-any.whl (55 kB)\r\n",
      "\u001b[2K   \u001b[90m━━━━━━━━━━━━━━━━━━━━━━━━━━━━━━━━━━━━━━━━\u001b[0m \u001b[32m55.1/55.1 kB\u001b[0m \u001b[31m2.4 MB/s\u001b[0m eta \u001b[36m0:00:00\u001b[0m\r\n",
      "\u001b[?25hDownloading chardet-3.0.4-py2.py3-none-any.whl (133 kB)\r\n",
      "\u001b[2K   \u001b[90m━━━━━━━━━━━━━━━━━━━━━━━━━━━━━━━━━━━━━━━━\u001b[0m \u001b[32m133.4/133.4 kB\u001b[0m \u001b[31m4.0 MB/s\u001b[0m eta \u001b[36m0:00:00\u001b[0m\r\n",
      "\u001b[?25hDownloading httpcore-0.9.1-py3-none-any.whl (42 kB)\r\n",
      "\u001b[2K   \u001b[90m━━━━━━━━━━━━━━━━━━━━━━━━━━━━━━━━━━━━━━━━\u001b[0m \u001b[32m42.6/42.6 kB\u001b[0m \u001b[31m1.7 MB/s\u001b[0m eta \u001b[36m0:00:00\u001b[0m\r\n",
      "\u001b[?25hDownloading idna-2.10-py2.py3-none-any.whl (58 kB)\r\n",
      "\u001b[2K   \u001b[90m━━━━━━━━━━━━━━━━━━━━━━━━━━━━━━━━━━━━━━━━\u001b[0m \u001b[32m58.8/58.8 kB\u001b[0m \u001b[31m2.2 MB/s\u001b[0m eta \u001b[36m0:00:00\u001b[0m\r\n",
      "\u001b[?25hDownloading h2-3.2.0-py2.py3-none-any.whl (65 kB)\r\n",
      "\u001b[2K   \u001b[90m━━━━━━━━━━━━━━━━━━━━━━━━━━━━━━━━━━━━━━━━\u001b[0m \u001b[32m65.0/65.0 kB\u001b[0m \u001b[31m2.4 MB/s\u001b[0m eta \u001b[36m0:00:00\u001b[0m\r\n",
      "\u001b[?25hDownloading rfc3986-1.5.0-py2.py3-none-any.whl (31 kB)\r\n",
      "Downloading hstspreload-2024.10.1-py3-none-any.whl (1.2 MB)\r\n",
      "\u001b[2K   \u001b[90m━━━━━━━━━━━━━━━━━━━━━━━━━━━━━━━━━━━━━━━━\u001b[0m \u001b[32m1.2/1.2 MB\u001b[0m \u001b[31m22.7 MB/s\u001b[0m eta \u001b[36m0:00:00\u001b[0m\r\n",
      "\u001b[?25hDownloading h11-0.9.0-py2.py3-none-any.whl (53 kB)\r\n",
      "\u001b[2K   \u001b[90m━━━━━━━━━━━━━━━━━━━━━━━━━━━━━━━━━━━━━━━━\u001b[0m \u001b[32m53.6/53.6 kB\u001b[0m \u001b[31m2.3 MB/s\u001b[0m eta \u001b[36m0:00:00\u001b[0m\r\n",
      "\u001b[?25hDownloading hpack-3.0.0-py2.py3-none-any.whl (38 kB)\r\n",
      "Downloading hyperframe-5.2.0-py2.py3-none-any.whl (12 kB)\r\n",
      "Building wheels for collected packages: googletrans\r\n",
      "  Building wheel for googletrans (setup.py) ... \u001b[?25l-\b \b\\\b \b|\b \b/\b \bdone\r\n",
      "\u001b[?25h  Created wheel for googletrans: filename=googletrans-3.1.0a0-py3-none-any.whl size=16353 sha256=2afdaa5bbf377ee42c73e3c04c3a0e944b606b9aa7c9ad5591dedb1284d4beea\r\n",
      "  Stored in directory: /root/.cache/pip/wheels/50/5d/3c/8477d0af4ca2b8b1308812c09f1930863caeebc762fe265a95\r\n",
      "Successfully built googletrans\r\n",
      "Installing collected packages: rfc3986, hyperframe, hpack, h11, chardet, idna, hstspreload, h2, httpcore, httpx, googletrans\r\n",
      "  Attempting uninstall: h11\r\n",
      "    Found existing installation: h11 0.14.0\r\n",
      "    Uninstalling h11-0.14.0:\r\n",
      "      Successfully uninstalled h11-0.14.0\r\n",
      "  Attempting uninstall: idna\r\n",
      "    Found existing installation: idna 3.7\r\n",
      "    Uninstalling idna-3.7:\r\n",
      "      Successfully uninstalled idna-3.7\r\n",
      "  Attempting uninstall: httpcore\r\n",
      "    Found existing installation: httpcore 1.0.5\r\n",
      "    Uninstalling httpcore-1.0.5:\r\n",
      "      Successfully uninstalled httpcore-1.0.5\r\n",
      "  Attempting uninstall: httpx\r\n",
      "    Found existing installation: httpx 0.27.0\r\n",
      "    Uninstalling httpx-0.27.0:\r\n",
      "      Successfully uninstalled httpx-0.27.0\r\n",
      "\u001b[31mERROR: pip's dependency resolver does not currently take into account all the packages that are installed. This behaviour is the source of the following dependency conflicts.\r\n",
      "fastapi 0.111.0 requires httpx>=0.23.0, but you have httpx 0.13.3 which is incompatible.\r\n",
      "jupyterlab 4.2.5 requires httpx>=0.25.0, but you have httpx 0.13.3 which is incompatible.\r\n",
      "jupyterlab 4.2.5 requires jupyter-lsp>=2.0.0, but you have jupyter-lsp 1.5.1 which is incompatible.\r\n",
      "jupyterlab-lsp 5.1.0 requires jupyter-lsp>=2.0.0, but you have jupyter-lsp 1.5.1 which is incompatible.\r\n",
      "ydata-profiling 4.10.0 requires scipy<1.14,>=1.4.1, but you have scipy 1.14.1 which is incompatible.\u001b[0m\u001b[31m\r\n",
      "\u001b[0mSuccessfully installed chardet-3.0.4 googletrans-3.1.0a0 h11-0.9.0 h2-3.2.0 hpack-3.0.0 hstspreload-2024.10.1 httpcore-0.9.1 httpx-0.13.3 hyperframe-5.2.0 idna-2.10 rfc3986-1.5.0\r\n",
      "Requirement already satisfied: optuna in /opt/conda/lib/python3.10/site-packages (4.0.0)\r\n",
      "Requirement already satisfied: alembic>=1.5.0 in /opt/conda/lib/python3.10/site-packages (from optuna) (1.13.2)\r\n",
      "Requirement already satisfied: colorlog in /opt/conda/lib/python3.10/site-packages (from optuna) (6.8.2)\r\n",
      "Requirement already satisfied: numpy in /opt/conda/lib/python3.10/site-packages (from optuna) (1.26.4)\r\n",
      "Requirement already satisfied: packaging>=20.0 in /opt/conda/lib/python3.10/site-packages (from optuna) (21.3)\r\n",
      "Requirement already satisfied: sqlalchemy>=1.3.0 in /opt/conda/lib/python3.10/site-packages (from optuna) (2.0.30)\r\n",
      "Requirement already satisfied: tqdm in /opt/conda/lib/python3.10/site-packages (from optuna) (4.66.4)\r\n",
      "Requirement already satisfied: PyYAML in /opt/conda/lib/python3.10/site-packages (from optuna) (6.0.2)\r\n",
      "Requirement already satisfied: Mako in /opt/conda/lib/python3.10/site-packages (from alembic>=1.5.0->optuna) (1.3.5)\r\n",
      "Requirement already satisfied: typing-extensions>=4 in /opt/conda/lib/python3.10/site-packages (from alembic>=1.5.0->optuna) (4.12.2)\r\n",
      "Requirement already satisfied: pyparsing!=3.0.5,>=2.0.2 in /opt/conda/lib/python3.10/site-packages (from packaging>=20.0->optuna) (3.1.2)\r\n",
      "Requirement already satisfied: greenlet!=0.4.17 in /opt/conda/lib/python3.10/site-packages (from sqlalchemy>=1.3.0->optuna) (3.0.3)\r\n",
      "Requirement already satisfied: MarkupSafe>=0.9.2 in /opt/conda/lib/python3.10/site-packages (from Mako->alembic>=1.5.0->optuna) (2.1.5)\r\n"
     ]
    }
   ],
   "source": [
    "! pip3 install googletrans==3.1.0a0\n",
    "!pip install optuna"
   ]
  },
  {
   "cell_type": "code",
   "execution_count": 3,
   "id": "3e94069d",
   "metadata": {
    "execution": {
     "iopub.execute_input": "2024-10-18T10:08:05.881393Z",
     "iopub.status.busy": "2024-10-18T10:08:05.880952Z",
     "iopub.status.idle": "2024-10-18T10:08:18.731100Z",
     "shell.execute_reply": "2024-10-18T10:08:18.728835Z"
    },
    "papermill": {
     "duration": 12.88186,
     "end_time": "2024-10-18T10:08:18.736038",
     "exception": false,
     "start_time": "2024-10-18T10:08:05.854178",
     "status": "completed"
    },
    "tags": []
   },
   "outputs": [],
   "source": [
    "from transformers import BertTokenizer, BertModel\n",
    "from tqdm import notebook\n",
    "import torch\n",
    "from sklearn.pipeline import Pipeline, make_pipeline\n",
    "\n",
    "from sklearn.model_selection import GridSearchCV, RandomizedSearchCV, train_test_split, cross_val_score\n",
    "from sklearn.metrics import f1_score, roc_auc_score\n",
    "from sklearn.compose import ColumnTransformer, make_column_selector, make_column_transformer\n",
    "\n",
    "from sklearn.linear_model import LogisticRegression\n",
    "from sklearn.tree import DecisionTreeClassifier\n",
    "from lightgbm import LGBMClassifier\n",
    "from catboost import CatBoostClassifier, Pool\n",
    "from sklearn.decomposition import PCA\n",
    "\n",
    "from googletrans import Translator, constants\n",
    "\n",
    "import optuna\n",
    "from sklearn.metrics import make_scorer"
   ]
  },
  {
   "cell_type": "code",
   "execution_count": 4,
   "id": "9cbb5030",
   "metadata": {
    "execution": {
     "iopub.execute_input": "2024-10-18T10:08:18.797047Z",
     "iopub.status.busy": "2024-10-18T10:08:18.795864Z",
     "iopub.status.idle": "2024-10-18T10:08:18.802411Z",
     "shell.execute_reply": "2024-10-18T10:08:18.800971Z"
    },
    "papermill": {
     "duration": 0.037107,
     "end_time": "2024-10-18T10:08:18.805239",
     "exception": false,
     "start_time": "2024-10-18T10:08:18.768132",
     "status": "completed"
    },
    "tags": []
   },
   "outputs": [],
   "source": [
    "RANDOM_STATE = 12345\n",
    "PATH_TRAIN = '/kaggle/input/animation-reels-classification/train.csv' \n",
    "PATH_TEST = '/kaggle/input/animation-reels-classification/test.csv'\n"
   ]
  },
  {
   "cell_type": "markdown",
   "id": "5f0d2c63",
   "metadata": {
    "papermill": {
     "duration": 0.025777,
     "end_time": "2024-10-18T10:08:18.856675",
     "exception": false,
     "start_time": "2024-10-18T10:08:18.830898",
     "status": "completed"
    },
    "tags": []
   },
   "source": [
    "## Загрузим обучающий и тестовый датасет и получим первичную информацию по дадатсетам, для чего напишем функию download_and_get_info"
   ]
  },
  {
   "cell_type": "code",
   "execution_count": 5,
   "id": "a635aa72",
   "metadata": {
    "execution": {
     "iopub.execute_input": "2024-10-18T10:08:18.922092Z",
     "iopub.status.busy": "2024-10-18T10:08:18.921534Z",
     "iopub.status.idle": "2024-10-18T10:08:18.935868Z",
     "shell.execute_reply": "2024-10-18T10:08:18.934361Z"
    },
    "papermill": {
     "duration": 0.05248,
     "end_time": "2024-10-18T10:08:18.939237",
     "exception": false,
     "start_time": "2024-10-18T10:08:18.886757",
     "status": "completed"
    },
    "tags": []
   },
   "outputs": [],
   "source": [
    "def download_and_get_info(path):\n",
    "    '''\n",
    "    Функция загрузки и первичного анализа данных.\n",
    "    \n",
    "    На входе функция принимает:\n",
    "    path - путь к файлу\n",
    "    \n",
    "    На выходе возвращает: df - датасет\n",
    "    \n",
    "    Функция обеспечивает загрузку файла в данными, вывод на экран первых пяти строк датасета, \n",
    "    вывод общей информации о датасете, количество полных дуюликатов, описание числоовых столбцов, \n",
    "    строит гистограммы числовых столбцов, выводит по всем столбцам датасета количество уникальных \n",
    "    значений и пропусков\n",
    "    \n",
    "    '''\n",
    "    if os.path.exists(path):\n",
    "        df = pd.read_csv(path, lineterminator='\\n') # загрузка файла\n",
    "    else:\n",
    "        print('Something is wrong') \n",
    "    df = pd.read_csv(path, lineterminator='\\n') # загрузка файла\n",
    "    display(df.head()) # вывод первых пяти строк датасета\n",
    "    print('-' * 60)\n",
    "    df.info() # вывод общей информации о датасете\n",
    "    print('-' * 60)\n",
    "    print('Количество полных дубликатов', df.duplicated().sum())\n",
    "    print('-' * 60)\n",
    "    print(df.describe())\n",
    "    df.hist();\n",
    "    columns = df.columns\n",
    "    print('-' * 60)\n",
    "    for column in columns:\n",
    "        print('-' * 60)\n",
    "        print(f'столбец {column}')\n",
    "        print ('Количество уникальных значений', len(df[column].unique()))\n",
    "        print ('Количество пропусков', df[column].isna().sum())\n",
    "    return df    "
   ]
  },
  {
   "cell_type": "markdown",
   "id": "f9d2219b",
   "metadata": {
    "papermill": {
     "duration": 0.028731,
     "end_time": "2024-10-18T10:08:18.994906",
     "exception": false,
     "start_time": "2024-10-18T10:08:18.966175",
     "status": "completed"
    },
    "tags": []
   },
   "source": [
    "### Обучающающий датасет"
   ]
  },
  {
   "cell_type": "code",
   "execution_count": 6,
   "id": "a1efe0c0",
   "metadata": {
    "execution": {
     "iopub.execute_input": "2024-10-18T10:08:19.052413Z",
     "iopub.status.busy": "2024-10-18T10:08:19.051835Z",
     "iopub.status.idle": "2024-10-18T10:08:30.039965Z",
     "shell.execute_reply": "2024-10-18T10:08:30.038618Z"
    },
    "papermill": {
     "duration": 11.02074,
     "end_time": "2024-10-18T10:08:30.043070",
     "exception": false,
     "start_time": "2024-10-18T10:08:19.022330",
     "status": "completed"
    },
    "tags": []
   },
   "outputs": [
    {
     "data": {
      "text/html": [
       "<div>\n",
       "<style scoped>\n",
       "    .dataframe tbody tr th:only-of-type {\n",
       "        vertical-align: middle;\n",
       "    }\n",
       "\n",
       "    .dataframe tbody tr th {\n",
       "        vertical-align: top;\n",
       "    }\n",
       "\n",
       "    .dataframe thead th {\n",
       "        text-align: right;\n",
       "    }\n",
       "</style>\n",
       "<table border=\"1\" class=\"dataframe\">\n",
       "  <thead>\n",
       "    <tr style=\"text-align: right;\">\n",
       "      <th></th>\n",
       "      <th>date</th>\n",
       "      <th>reel_name</th>\n",
       "      <th>yt_reel_id</th>\n",
       "      <th>cartoon</th>\n",
       "      <th>url</th>\n",
       "      <th>text</th>\n",
       "      <th>seconds</th>\n",
       "      <th>is_shorts</th>\n",
       "      <th>broadcast</th>\n",
       "      <th>yt_channel_id</th>\n",
       "      <th>yt_channel_name</th>\n",
       "      <th>yt_ch_url</th>\n",
       "      <th>yt_channel_type</th>\n",
       "      <th>flag_closed</th>\n",
       "      <th>international</th>\n",
       "      <th>language</th>\n",
       "    </tr>\n",
       "  </thead>\n",
       "  <tbody>\n",
       "    <tr>\n",
       "      <th>0</th>\n",
       "      <td>2023-12-30</td>\n",
       "      <td>100 подарков и только один можно оставить себе</td>\n",
       "      <td>PyGZL_fCbSc</td>\n",
       "      <td>none</td>\n",
       "      <td>https://www.youtube.com/watch?v=PyGZL_fCbSc</td>\n",
       "      <td>[100 подарков и только один можно оставить себе]</td>\n",
       "      <td>1854.0</td>\n",
       "      <td>0.0</td>\n",
       "      <td>none</td>\n",
       "      <td>UCcartHVtvAUzfajflyeT_Gg</td>\n",
       "      <td>Miss Katy</td>\n",
       "      <td>https://www.youtube.com/channel/UCcartHVtvAUzf...</td>\n",
       "      <td>Блогеры</td>\n",
       "      <td>0.0</td>\n",
       "      <td>0.0</td>\n",
       "      <td>NaN</td>\n",
       "    </tr>\n",
       "    <tr>\n",
       "      <th>1</th>\n",
       "      <td>2018-06-29</td>\n",
       "      <td>ЗАБАГАЛИ Лизу в Реальной Жизни АРТУР и НАСТЯ F...</td>\n",
       "      <td>Lcp0pFZF4eQ</td>\n",
       "      <td>none</td>\n",
       "      <td>https://www.youtube.com/watch?v=Lcp0pFZF4eQ</td>\n",
       "      <td>[ЗАБАГАЛИ Лизу в Реальной Жизни АРТУР и НАСТЯ ...</td>\n",
       "      <td>602.0</td>\n",
       "      <td>0.0</td>\n",
       "      <td>none</td>\n",
       "      <td>UCWI7puXzGTPuxsoW2HD3XxQ</td>\n",
       "      <td>Boys and Toys</td>\n",
       "      <td>https://youtube.com/channel/UCWI7puXzGTPuxsoW2...</td>\n",
       "      <td>Блогеры</td>\n",
       "      <td>0.0</td>\n",
       "      <td>0.0</td>\n",
       "      <td>NaN</td>\n",
       "    </tr>\n",
       "    <tr>\n",
       "      <th>2</th>\n",
       "      <td>2023-11-26</td>\n",
       "      <td>Грозная семейка  Лучшие СЕСТРИНСКИЕ моменты  с...</td>\n",
       "      <td>z8d6LbiBRnk</td>\n",
       "      <td>none</td>\n",
       "      <td>https://www.youtube.com/watch?v=z8d6LbiBRnk</td>\n",
       "      <td>[Грозная семейка  Лучшие СЕСТРИНСКИЕ моменты  ...</td>\n",
       "      <td>3604.0</td>\n",
       "      <td>0.0</td>\n",
       "      <td>none</td>\n",
       "      <td>UCw3vK8lNe5SZzL--rMgq-CQ</td>\n",
       "      <td>Nickelodeon_Cyrillic</td>\n",
       "      <td>https://youtube.com/channel/UCw3vK8lNe5SZzL--r...</td>\n",
       "      <td>Мультфильмы</td>\n",
       "      <td>0.0</td>\n",
       "      <td>0.0</td>\n",
       "      <td>NaN</td>\n",
       "    </tr>\n",
       "    <tr>\n",
       "      <th>3</th>\n",
       "      <td>2016-05-30</td>\n",
       "      <td>Как сделать ожерелье из ткани своими руками</td>\n",
       "      <td>0iu0p_Y8DjM</td>\n",
       "      <td>none</td>\n",
       "      <td>https://www.youtube.com/watch?v=0iu0p_Y8DjM</td>\n",
       "      <td>[Как сделать ожерелье из ткани своими руками] ...</td>\n",
       "      <td>264.0</td>\n",
       "      <td>0.0</td>\n",
       "      <td>none</td>\n",
       "      <td>UCq1JpGFxcZTbbOAz010U-og</td>\n",
       "      <td>Трум Трум</td>\n",
       "      <td>https://youtube.com/channel/UCq1JpGFxcZTbbOAz0...</td>\n",
       "      <td>Блогеры</td>\n",
       "      <td>0.0</td>\n",
       "      <td>0.0</td>\n",
       "      <td>NaN</td>\n",
       "    </tr>\n",
       "    <tr>\n",
       "      <th>4</th>\n",
       "      <td>2023-07-06</td>\n",
       "      <td>Sleepover Rules  Om Nom Stories  Cartoon for k...</td>\n",
       "      <td>rYwOVp_Edjw</td>\n",
       "      <td>none</td>\n",
       "      <td>https://www.youtube.com/watch?v=rYwOVp_Edjw</td>\n",
       "      <td>[Sleepover Rules  Om Nom Stories  Cartoon for ...</td>\n",
       "      <td>42899.0</td>\n",
       "      <td>0.0</td>\n",
       "      <td>none</td>\n",
       "      <td>UCniI-BQk7qAtXNmmz40LSdg</td>\n",
       "      <td>Kedoo Toons TV Funny Animations</td>\n",
       "      <td>https://youtube.com/channel/UCniI-BQk7qAtXNmmz...</td>\n",
       "      <td>Мультфильмы</td>\n",
       "      <td>0.0</td>\n",
       "      <td>0.0</td>\n",
       "      <td>NaN</td>\n",
       "    </tr>\n",
       "  </tbody>\n",
       "</table>\n",
       "</div>"
      ],
      "text/plain": [
       "         date                                          reel_name   yt_reel_id  \\\n",
       "0  2023-12-30     100 подарков и только один можно оставить себе  PyGZL_fCbSc   \n",
       "1  2018-06-29  ЗАБАГАЛИ Лизу в Реальной Жизни АРТУР и НАСТЯ F...  Lcp0pFZF4eQ   \n",
       "2  2023-11-26  Грозная семейка  Лучшие СЕСТРИНСКИЕ моменты  с...  z8d6LbiBRnk   \n",
       "3  2016-05-30        Как сделать ожерелье из ткани своими руками  0iu0p_Y8DjM   \n",
       "4  2023-07-06  Sleepover Rules  Om Nom Stories  Cartoon for k...  rYwOVp_Edjw   \n",
       "\n",
       "  cartoon                                          url  \\\n",
       "0    none  https://www.youtube.com/watch?v=PyGZL_fCbSc   \n",
       "1    none  https://www.youtube.com/watch?v=Lcp0pFZF4eQ   \n",
       "2    none  https://www.youtube.com/watch?v=z8d6LbiBRnk   \n",
       "3    none  https://www.youtube.com/watch?v=0iu0p_Y8DjM   \n",
       "4    none  https://www.youtube.com/watch?v=rYwOVp_Edjw   \n",
       "\n",
       "                                                text  seconds  is_shorts  \\\n",
       "0  [100 подарков и только один можно оставить себе]    1854.0        0.0   \n",
       "1  [ЗАБАГАЛИ Лизу в Реальной Жизни АРТУР и НАСТЯ ...    602.0        0.0   \n",
       "2  [Грозная семейка  Лучшие СЕСТРИНСКИЕ моменты  ...   3604.0        0.0   \n",
       "3  [Как сделать ожерелье из ткани своими руками] ...    264.0        0.0   \n",
       "4  [Sleepover Rules  Om Nom Stories  Cartoon for ...  42899.0        0.0   \n",
       "\n",
       "  broadcast             yt_channel_id                  yt_channel_name  \\\n",
       "0      none  UCcartHVtvAUzfajflyeT_Gg                        Miss Katy   \n",
       "1      none  UCWI7puXzGTPuxsoW2HD3XxQ                    Boys and Toys   \n",
       "2      none  UCw3vK8lNe5SZzL--rMgq-CQ             Nickelodeon_Cyrillic   \n",
       "3      none  UCq1JpGFxcZTbbOAz010U-og                        Трум Трум   \n",
       "4      none  UCniI-BQk7qAtXNmmz40LSdg  Kedoo Toons TV Funny Animations   \n",
       "\n",
       "                                           yt_ch_url yt_channel_type  \\\n",
       "0  https://www.youtube.com/channel/UCcartHVtvAUzf...         Блогеры   \n",
       "1  https://youtube.com/channel/UCWI7puXzGTPuxsoW2...         Блогеры   \n",
       "2  https://youtube.com/channel/UCw3vK8lNe5SZzL--r...     Мультфильмы   \n",
       "3  https://youtube.com/channel/UCq1JpGFxcZTbbOAz0...         Блогеры   \n",
       "4  https://youtube.com/channel/UCniI-BQk7qAtXNmmz...     Мультфильмы   \n",
       "\n",
       "   flag_closed  international language  \n",
       "0          0.0            0.0      NaN  \n",
       "1          0.0            0.0      NaN  \n",
       "2          0.0            0.0      NaN  \n",
       "3          0.0            0.0      NaN  \n",
       "4          0.0            0.0      NaN  "
      ]
     },
     "metadata": {},
     "output_type": "display_data"
    },
    {
     "name": "stdout",
     "output_type": "stream",
     "text": [
      "------------------------------------------------------------\n",
      "<class 'pandas.core.frame.DataFrame'>\n",
      "RangeIndex: 83411 entries, 0 to 83410\n",
      "Data columns (total 16 columns):\n",
      " #   Column           Non-Null Count  Dtype  \n",
      "---  ------           --------------  -----  \n",
      " 0   date             83411 non-null  object \n",
      " 1   reel_name        83408 non-null  object \n",
      " 2   yt_reel_id       83411 non-null  object \n",
      " 3   cartoon          83411 non-null  object \n",
      " 4   url              83411 non-null  object \n",
      " 5   text             83411 non-null  object \n",
      " 6   seconds          74653 non-null  float64\n",
      " 7   is_shorts        74653 non-null  float64\n",
      " 8   broadcast        74653 non-null  object \n",
      " 9   yt_channel_id    83366 non-null  object \n",
      " 10  yt_channel_name  83363 non-null  object \n",
      " 11  yt_ch_url        83363 non-null  object \n",
      " 12  yt_channel_type  83363 non-null  object \n",
      " 13  flag_closed      83363 non-null  float64\n",
      " 14  international    83363 non-null  float64\n",
      " 15  language         497 non-null    object \n",
      "dtypes: float64(4), object(12)\n",
      "memory usage: 10.2+ MB\n",
      "------------------------------------------------------------\n",
      "Количество полных дубликатов 0\n",
      "------------------------------------------------------------\n",
      "             seconds     is_shorts   flag_closed  international\n",
      "count   74653.000000  74653.000000  83363.000000   83363.000000\n",
      "mean     1921.289084      0.051023      0.038422       0.005962\n",
      "std      7097.896248      0.220046      0.192215       0.076983\n",
      "min         0.000000      0.000000      0.000000       0.000000\n",
      "25%       200.000000      0.000000      0.000000       0.000000\n",
      "50%       602.000000      0.000000      0.000000       0.000000\n",
      "75%      1316.000000      0.000000      0.000000       0.000000\n",
      "max    504055.000000      1.000000      1.000000       1.000000\n",
      "------------------------------------------------------------\n",
      "------------------------------------------------------------\n",
      "столбец date\n",
      "Количество уникальных значений 4634\n",
      "Количество пропусков 0\n",
      "------------------------------------------------------------\n",
      "столбец reel_name\n",
      "Количество уникальных значений 77223\n",
      "Количество пропусков 3\n",
      "------------------------------------------------------------\n",
      "столбец yt_reel_id\n",
      "Количество уникальных значений 83411\n",
      "Количество пропусков 0\n",
      "------------------------------------------------------------\n",
      "столбец cartoon\n",
      "Количество уникальных значений 45\n",
      "Количество пропусков 0\n",
      "------------------------------------------------------------\n",
      "столбец url\n",
      "Количество уникальных значений 83411\n",
      "Количество пропусков 0\n",
      "------------------------------------------------------------\n",
      "столбец text\n",
      "Количество уникальных значений 78857\n",
      "Количество пропусков 0\n",
      "------------------------------------------------------------\n",
      "столбец seconds\n",
      "Количество уникальных значений 6688\n",
      "Количество пропусков 8758\n",
      "------------------------------------------------------------\n",
      "столбец is_shorts\n",
      "Количество уникальных значений 3\n",
      "Количество пропусков 8758\n",
      "------------------------------------------------------------\n",
      "столбец broadcast\n",
      "Количество уникальных значений 4\n",
      "Количество пропусков 8758\n",
      "------------------------------------------------------------\n",
      "столбец yt_channel_id\n",
      "Количество уникальных значений 206\n",
      "Количество пропусков 45\n",
      "------------------------------------------------------------\n",
      "столбец yt_channel_name\n",
      "Количество уникальных значений 204\n",
      "Количество пропусков 48\n",
      "------------------------------------------------------------\n",
      "столбец yt_ch_url\n",
      "Количество уникальных значений 205\n",
      "Количество пропусков 48\n",
      "------------------------------------------------------------\n",
      "столбец yt_channel_type\n",
      "Количество уникальных значений 5\n",
      "Количество пропусков 48\n",
      "------------------------------------------------------------\n",
      "столбец flag_closed\n",
      "Количество уникальных значений 3\n",
      "Количество пропусков 48\n",
      "------------------------------------------------------------\n",
      "столбец international\n",
      "Количество уникальных значений 3\n",
      "Количество пропусков 48\n",
      "------------------------------------------------------------\n",
      "столбец language\n",
      "Количество уникальных значений 4\n",
      "Количество пропусков 82914\n"
     ]
    },
    {
     "data": {
      "image/png": "[encoded data removed]",
      "text/plain": [
       "<Figure size 640x480 with 4 Axes>"
      ]
     },
     "metadata": {},
     "output_type": "display_data"
    }
   ],
   "source": [
    "df_train = download_and_get_info(PATH_TRAIN)"
   ]
  },
  {
   "cell_type": "markdown",
   "id": "ff88e813",
   "metadata": {
    "papermill": {
     "duration": 0.026423,
     "end_time": "2024-10-18T10:08:30.097084",
     "exception": false,
     "start_time": "2024-10-18T10:08:30.070661",
     "status": "completed"
    },
    "tags": []
   },
   "source": [
    "Из полученных данных видим, что обучающий датафрейм содержит 83 411 строк и 16 столбцов, полных дубликатов нет. В ряде столбцов (seconds, is-shorts, broadcast, language) наблюдается достаточно большое количество пропусков. Столлбцы - broadcast,is_shorts, flag_closed, international - имеют только два значения 1 и 0, но в них есть пропуски. Для более детального ознакомления с данными посмотрим какие уникальные значения и в каком количестве встречаются в столбцах- 'cartoon',  'yt_channel_type', 'language'"
   ]
  },
  {
   "cell_type": "code",
   "execution_count": 7,
   "id": "ba5e0bf5",
   "metadata": {
    "execution": {
     "iopub.execute_input": "2024-10-18T10:08:30.152291Z",
     "iopub.status.busy": "2024-10-18T10:08:30.151708Z",
     "iopub.status.idle": "2024-10-18T10:08:30.196220Z",
     "shell.execute_reply": "2024-10-18T10:08:30.194985Z"
    },
    "papermill": {
     "duration": 0.075663,
     "end_time": "2024-10-18T10:08:30.199369",
     "exception": false,
     "start_time": "2024-10-18T10:08:30.123706",
     "status": "completed"
    },
    "tags": []
   },
   "outputs": [
    {
     "name": "stdout",
     "output_type": "stream",
     "text": [
      "cartoon\n",
      "none                          78231\n",
      "Маша и медведь                  853\n",
      "Говорящий Том                   589\n",
      "Буба                            529\n",
      "Кошечки собачки                 437\n",
      "Енотки                          379\n",
      "Бэтмен                          353\n",
      "ЖилаБыла Царевна                229\n",
      "Оранжевая корова                227\n",
      "Зебра в клеточку                188\n",
      "Фиксики                         151\n",
      "Чик-Чирикино                    137\n",
      "Сумка                           134\n",
      "Черепашки Ниндзя                104\n",
      "Чуддики                          86\n",
      "My little pony                   81\n",
      "Свинка Пеппа                     69\n",
      "Синий трактор                    67\n",
      "Чучело-Мяучело                   64\n",
      "Малышарики                       60\n",
      "Пороро                           51\n",
      "Приключения Пети и Волка         41\n",
      "Смешарики                        41\n",
      "Трансформеры                     40\n",
      "Простоквашино                    35\n",
      "Царевны                          32\n",
      "Щенячий патруль                  32\n",
      "Cry babies magic tears           22\n",
      "Крутиксы                         22\n",
      "Кукутики                         17\n",
      "Акуленок                         11\n",
      "Губка Боб                        10\n",
      "Лунтик                           10\n",
      "Симпсоны                         10\n",
      "Финник                            8\n",
      "Мини-мишки                        8\n",
      "Чебурашка                         8\n",
      "Ну_погоди каникулы                7\n",
      "Барбоскины                        7\n",
      "Котик Мормотик                    6\n",
      "Бременские музыканты              6\n",
      "Паровозики Чаттингтон             6\n",
      "Цветняшки                         6\n",
      "Enchantimals (Эншантималс)        4\n",
      "Вспыш                             3\n",
      "Name: count, dtype: int64\n",
      "------------------------------------------------------------\n",
      "yt_channel_type\n",
      "Мультфильмы    40627\n",
      "Блогеры        32905\n",
      "Детские         9608\n",
      "Shorts           223\n",
      "Name: count, dtype: int64\n",
      "------------------------------------------------------------\n",
      "language\n",
      "english    204\n",
      "spanish    201\n",
      "arabic      92\n",
      "Name: count, dtype: int64\n",
      "------------------------------------------------------------\n"
     ]
    }
   ],
   "source": [
    "columns_1 = ['cartoon', 'yt_channel_type', 'language']\n",
    "for column in columns_1:\n",
    "    print(df_train[column].value_counts()) #normalize=True\n",
    "    print('-' * 60)"
   ]
  },
  {
   "cell_type": "markdown",
   "id": "57eb9922",
   "metadata": {
    "papermill": {
     "duration": 0.026308,
     "end_time": "2024-10-18T10:08:30.252343",
     "exception": false,
     "start_time": "2024-10-18T10:08:30.226035",
     "status": "completed"
    },
    "tags": []
   },
   "source": [
    "В целевой переменной cartoon наблюдается сильный дисбаланс классов, значение none превышает 90%, это надо учесть при разработке решения по калссификации. \n",
    "Столбец language - тут мы видим, что в данном столбце пропусков более 99 %, в остальном встречается три языка (английский, испанский и арабский), это также необходимо учесть при разработке решения"
   ]
  },
  {
   "cell_type": "markdown",
   "id": "6058329d",
   "metadata": {
    "papermill": {
     "duration": 0.029307,
     "end_time": "2024-10-18T10:08:30.308336",
     "exception": false,
     "start_time": "2024-10-18T10:08:30.279029",
     "status": "completed"
    },
    "tags": []
   },
   "source": [
    "### Тестовый датасет\n",
    "\n",
    "Проводим аналогичные исследования, с учетом того, что в тестовом датасете отсутсвует целевая переменная"
   ]
  },
  {
   "cell_type": "code",
   "execution_count": 8,
   "id": "b99880c4",
   "metadata": {
    "execution": {
     "iopub.execute_input": "2024-10-18T10:08:30.369430Z",
     "iopub.status.busy": "2024-10-18T10:08:30.367820Z",
     "iopub.status.idle": "2024-10-18T10:08:37.924981Z",
     "shell.execute_reply": "2024-10-18T10:08:37.923549Z"
    },
    "papermill": {
     "duration": 7.593046,
     "end_time": "2024-10-18T10:08:37.927929",
     "exception": false,
     "start_time": "2024-10-18T10:08:30.334883",
     "status": "completed"
    },
    "tags": []
   },
   "outputs": [
    {
     "data": {
      "text/html": [
       "<div>\n",
       "<style scoped>\n",
       "    .dataframe tbody tr th:only-of-type {\n",
       "        vertical-align: middle;\n",
       "    }\n",
       "\n",
       "    .dataframe tbody tr th {\n",
       "        vertical-align: top;\n",
       "    }\n",
       "\n",
       "    .dataframe thead th {\n",
       "        text-align: right;\n",
       "    }\n",
       "</style>\n",
       "<table border=\"1\" class=\"dataframe\">\n",
       "  <thead>\n",
       "    <tr style=\"text-align: right;\">\n",
       "      <th></th>\n",
       "      <th>date</th>\n",
       "      <th>reel_name</th>\n",
       "      <th>yt_reel_id</th>\n",
       "      <th>url</th>\n",
       "      <th>text</th>\n",
       "      <th>seconds</th>\n",
       "      <th>is_shorts</th>\n",
       "      <th>broadcast</th>\n",
       "      <th>yt_channel_id</th>\n",
       "      <th>yt_channel_name</th>\n",
       "      <th>yt_ch_url</th>\n",
       "      <th>yt_channel_type</th>\n",
       "      <th>flag_closed</th>\n",
       "      <th>international</th>\n",
       "      <th>language</th>\n",
       "    </tr>\n",
       "  </thead>\n",
       "  <tbody>\n",
       "    <tr>\n",
       "      <th>0</th>\n",
       "      <td>2020-10-26</td>\n",
       "      <td>пять маленьких монстров  хэллоуин рифмы  потеш...</td>\n",
       "      <td>RBw4j0aMWyM</td>\n",
       "      <td>https://www.youtube.com/watch?v=RBw4j0aMWyM</td>\n",
       "      <td>[пять маленьких монстров  хэллоуин рифмы  поте...</td>\n",
       "      <td>960.0</td>\n",
       "      <td>0.0</td>\n",
       "      <td>none</td>\n",
       "      <td>UCfeljpDR__qqp-lLBJdiQkw</td>\n",
       "      <td>Kids Tv Russia песенки для дете</td>\n",
       "      <td>https://youtube.com/channel/UCfeljpDR__qqp-lLB...</td>\n",
       "      <td>Детские</td>\n",
       "      <td>0.0</td>\n",
       "      <td>0.0</td>\n",
       "      <td>NaN</td>\n",
       "    </tr>\n",
       "    <tr>\n",
       "      <th>1</th>\n",
       "      <td>2024-03-24</td>\n",
       "      <td>Tractor mini Bulldozer to making concrete road...</td>\n",
       "      <td>5wTfpmlZe5k</td>\n",
       "      <td>https://www.youtube.com/watch?v=5wTfpmlZe5k</td>\n",
       "      <td>[Tractor mini Bulldozer to making concrete roa...</td>\n",
       "      <td>0.0</td>\n",
       "      <td>0.0</td>\n",
       "      <td>live</td>\n",
       "      <td>UCIDMp2rLX4G5C6eiypl9SFA</td>\n",
       "      <td>OneDayAlex</td>\n",
       "      <td>https://www.youtube.com/channel/UCIDMp2rLX4G5C...</td>\n",
       "      <td>Блогеры</td>\n",
       "      <td>0.0</td>\n",
       "      <td>0.0</td>\n",
       "      <td>NaN</td>\n",
       "    </tr>\n",
       "    <tr>\n",
       "      <th>2</th>\n",
       "      <td>2020-06-28</td>\n",
       "      <td>Кто Последний ПЕРЕСТАНЕТ Ехать Выиграл  Челлендж</td>\n",
       "      <td>Fd9YA-oDjSo</td>\n",
       "      <td>https://www.youtube.com/watch?v=Fd9YA-oDjSo</td>\n",
       "      <td>[Кто Последний ПЕРЕСТАНЕТ Ехать Выиграл  Челле...</td>\n",
       "      <td>1599.0</td>\n",
       "      <td>0.0</td>\n",
       "      <td>none</td>\n",
       "      <td>UC2tsySbe9TNrI-xh2lximHA</td>\n",
       "      <td>A4</td>\n",
       "      <td>https://youtube.com/channel/UC2tsySbe9TNrI-xh2...</td>\n",
       "      <td>Блогеры</td>\n",
       "      <td>0.0</td>\n",
       "      <td>0.0</td>\n",
       "      <td>NaN</td>\n",
       "    </tr>\n",
       "    <tr>\n",
       "      <th>3</th>\n",
       "      <td>2018-07-27</td>\n",
       "      <td>Мультики про машинки и паровозики для детей. Р...</td>\n",
       "      <td>NXCHY_J-5v0</td>\n",
       "      <td>https://www.youtube.com/watch?v=NXCHY_J-5v0</td>\n",
       "      <td>[Мультики про машинки и паровозики для детей. ...</td>\n",
       "      <td>467.0</td>\n",
       "      <td>0.0</td>\n",
       "      <td>none</td>\n",
       "      <td>UC_J_9-qRfVtKIkq7SxxVbhQ</td>\n",
       "      <td>ТВ Деткам</td>\n",
       "      <td>https://youtube.com/channel/UC_J_9-qRfVtKIkq7S...</td>\n",
       "      <td>Детские</td>\n",
       "      <td>0.0</td>\n",
       "      <td>0.0</td>\n",
       "      <td>NaN</td>\n",
       "    </tr>\n",
       "    <tr>\n",
       "      <th>4</th>\n",
       "      <td>2021-04-03</td>\n",
       "      <td>СЛИШКОМ МАЛЕНЬКИЙ ПОРТАЛ В ЭНД В МАЙНКРАФТ ТОЛ...</td>\n",
       "      <td>XM-GRekoYzs</td>\n",
       "      <td>https://www.youtube.com/watch?v=XM-GRekoYzs</td>\n",
       "      <td>[СЛИШКОМ МАЛЕНЬКИЙ ПОРТАЛ В ЭНД В МАЙНКРАФТ ТО...</td>\n",
       "      <td>364.0</td>\n",
       "      <td>0.0</td>\n",
       "      <td>none</td>\n",
       "      <td>UCSmqZkD74x3TLt6eRM5GhTg</td>\n",
       "      <td>Dargas</td>\n",
       "      <td>https://youtube.com/channel/UCSmqZkD74x3TLt6eR...</td>\n",
       "      <td>Блогеры</td>\n",
       "      <td>0.0</td>\n",
       "      <td>0.0</td>\n",
       "      <td>NaN</td>\n",
       "    </tr>\n",
       "  </tbody>\n",
       "</table>\n",
       "</div>"
      ],
      "text/plain": [
       "         date                                          reel_name   yt_reel_id  \\\n",
       "0  2020-10-26  пять маленьких монстров  хэллоуин рифмы  потеш...  RBw4j0aMWyM   \n",
       "1  2024-03-24  Tractor mini Bulldozer to making concrete road...  5wTfpmlZe5k   \n",
       "2  2020-06-28   Кто Последний ПЕРЕСТАНЕТ Ехать Выиграл  Челлендж  Fd9YA-oDjSo   \n",
       "3  2018-07-27  Мультики про машинки и паровозики для детей. Р...  NXCHY_J-5v0   \n",
       "4  2021-04-03  СЛИШКОМ МАЛЕНЬКИЙ ПОРТАЛ В ЭНД В МАЙНКРАФТ ТОЛ...  XM-GRekoYzs   \n",
       "\n",
       "                                           url  \\\n",
       "0  https://www.youtube.com/watch?v=RBw4j0aMWyM   \n",
       "1  https://www.youtube.com/watch?v=5wTfpmlZe5k   \n",
       "2  https://www.youtube.com/watch?v=Fd9YA-oDjSo   \n",
       "3  https://www.youtube.com/watch?v=NXCHY_J-5v0   \n",
       "4  https://www.youtube.com/watch?v=XM-GRekoYzs   \n",
       "\n",
       "                                                text  seconds  is_shorts  \\\n",
       "0  [пять маленьких монстров  хэллоуин рифмы  поте...    960.0        0.0   \n",
       "1  [Tractor mini Bulldozer to making concrete roa...      0.0        0.0   \n",
       "2  [Кто Последний ПЕРЕСТАНЕТ Ехать Выиграл  Челле...   1599.0        0.0   \n",
       "3  [Мультики про машинки и паровозики для детей. ...    467.0        0.0   \n",
       "4  [СЛИШКОМ МАЛЕНЬКИЙ ПОРТАЛ В ЭНД В МАЙНКРАФТ ТО...    364.0        0.0   \n",
       "\n",
       "  broadcast             yt_channel_id                  yt_channel_name  \\\n",
       "0      none  UCfeljpDR__qqp-lLBJdiQkw  Kids Tv Russia песенки для дете   \n",
       "1      live  UCIDMp2rLX4G5C6eiypl9SFA                       OneDayAlex   \n",
       "2      none  UC2tsySbe9TNrI-xh2lximHA                               A4   \n",
       "3      none  UC_J_9-qRfVtKIkq7SxxVbhQ                        ТВ Деткам   \n",
       "4      none  UCSmqZkD74x3TLt6eRM5GhTg                           Dargas   \n",
       "\n",
       "                                           yt_ch_url yt_channel_type  \\\n",
       "0  https://youtube.com/channel/UCfeljpDR__qqp-lLB...         Детские   \n",
       "1  https://www.youtube.com/channel/UCIDMp2rLX4G5C...         Блогеры   \n",
       "2  https://youtube.com/channel/UC2tsySbe9TNrI-xh2...         Блогеры   \n",
       "3  https://youtube.com/channel/UC_J_9-qRfVtKIkq7S...         Детские   \n",
       "4  https://youtube.com/channel/UCSmqZkD74x3TLt6eR...         Блогеры   \n",
       "\n",
       "   flag_closed  international language  \n",
       "0          0.0            0.0      NaN  \n",
       "1          0.0            0.0      NaN  \n",
       "2          0.0            0.0      NaN  \n",
       "3          0.0            0.0      NaN  \n",
       "4          0.0            0.0      NaN  "
      ]
     },
     "metadata": {},
     "output_type": "display_data"
    },
    {
     "name": "stdout",
     "output_type": "stream",
     "text": [
      "------------------------------------------------------------\n",
      "<class 'pandas.core.frame.DataFrame'>\n",
      "RangeIndex: 55608 entries, 0 to 55607\n",
      "Data columns (total 15 columns):\n",
      " #   Column           Non-Null Count  Dtype  \n",
      "---  ------           --------------  -----  \n",
      " 0   date             55608 non-null  object \n",
      " 1   reel_name        55605 non-null  object \n",
      " 2   yt_reel_id       55608 non-null  object \n",
      " 3   url              55608 non-null  object \n",
      " 4   text             55608 non-null  object \n",
      " 5   seconds          49807 non-null  float64\n",
      " 6   is_shorts        49807 non-null  float64\n",
      " 7   broadcast        49807 non-null  object \n",
      " 8   yt_channel_id    55584 non-null  object \n",
      " 9   yt_channel_name  55580 non-null  object \n",
      " 10  yt_ch_url        55580 non-null  object \n",
      " 11  yt_channel_type  55580 non-null  object \n",
      " 12  flag_closed      55580 non-null  float64\n",
      " 13  international    55580 non-null  float64\n",
      " 14  language         337 non-null    object \n",
      "dtypes: float64(4), object(11)\n",
      "memory usage: 6.4+ MB\n",
      "------------------------------------------------------------\n",
      "Количество полных дубликатов 0\n",
      "------------------------------------------------------------\n",
      "             seconds     is_shorts   flag_closed  international\n",
      "count   49807.000000  49807.000000  55580.000000   55580.000000\n",
      "mean     1850.130142      0.050937      0.035876       0.006063\n",
      "std      6933.482468      0.219871      0.185983       0.077632\n",
      "min         0.000000      0.000000      0.000000       0.000000\n",
      "25%       198.500000      0.000000      0.000000       0.000000\n",
      "50%       597.000000      0.000000      0.000000       0.000000\n",
      "75%      1313.000000      0.000000      0.000000       0.000000\n",
      "max    605861.000000      1.000000      1.000000       1.000000\n",
      "------------------------------------------------------------\n",
      "------------------------------------------------------------\n",
      "столбец date\n",
      "Количество уникальных значений 4498\n",
      "Количество пропусков 0\n",
      "------------------------------------------------------------\n",
      "столбец reel_name\n",
      "Количество уникальных значений 52006\n",
      "Количество пропусков 3\n",
      "------------------------------------------------------------\n",
      "столбец yt_reel_id\n",
      "Количество уникальных значений 55608\n",
      "Количество пропусков 0\n",
      "------------------------------------------------------------\n",
      "столбец url\n",
      "Количество уникальных значений 55608\n",
      "Количество пропусков 0\n",
      "------------------------------------------------------------\n",
      "столбец text\n",
      "Количество уникальных значений 52960\n",
      "Количество пропусков 0\n",
      "------------------------------------------------------------\n",
      "столбец seconds\n",
      "Количество уникальных значений 5585\n",
      "Количество пропусков 5801\n",
      "------------------------------------------------------------\n",
      "столбец is_shorts\n",
      "Количество уникальных значений 3\n",
      "Количество пропусков 5801\n",
      "------------------------------------------------------------\n",
      "столбец broadcast\n",
      "Количество уникальных значений 4\n",
      "Количество пропусков 5801\n",
      "------------------------------------------------------------\n",
      "столбец yt_channel_id\n",
      "Количество уникальных значений 207\n",
      "Количество пропусков 24\n",
      "------------------------------------------------------------\n",
      "столбец yt_channel_name\n",
      "Количество уникальных значений 203\n",
      "Количество пропусков 28\n",
      "------------------------------------------------------------\n",
      "столбец yt_ch_url\n",
      "Количество уникальных значений 204\n",
      "Количество пропусков 28\n",
      "------------------------------------------------------------\n",
      "столбец yt_channel_type\n",
      "Количество уникальных значений 5\n",
      "Количество пропусков 28\n",
      "------------------------------------------------------------\n",
      "столбец flag_closed\n",
      "Количество уникальных значений 3\n",
      "Количество пропусков 28\n",
      "------------------------------------------------------------\n",
      "столбец international\n",
      "Количество уникальных значений 3\n",
      "Количество пропусков 28\n",
      "------------------------------------------------------------\n",
      "столбец language\n",
      "Количество уникальных значений 4\n",
      "Количество пропусков 55271\n"
     ]
    },
    {
     "data": {
      "image/png": "[encoded data removed]",
      "text/plain": [
       "<Figure size 640x480 with 4 Axes>"
      ]
     },
     "metadata": {},
     "output_type": "display_data"
    }
   ],
   "source": [
    "df_test = download_and_get_info(PATH_TEST)"
   ]
  },
  {
   "cell_type": "code",
   "execution_count": 9,
   "id": "ca82b0c8",
   "metadata": {
    "execution": {
     "iopub.execute_input": "2024-10-18T10:08:37.992771Z",
     "iopub.status.busy": "2024-10-18T10:08:37.992300Z",
     "iopub.status.idle": "2024-10-18T10:08:38.013873Z",
     "shell.execute_reply": "2024-10-18T10:08:38.012379Z"
    },
    "papermill": {
     "duration": 0.054843,
     "end_time": "2024-10-18T10:08:38.017254",
     "exception": false,
     "start_time": "2024-10-18T10:08:37.962411",
     "status": "completed"
    },
    "tags": []
   },
   "outputs": [
    {
     "name": "stdout",
     "output_type": "stream",
     "text": [
      "yt_channel_type\n",
      "Мультфильмы    27009\n",
      "Блогеры        22084\n",
      "Детские         6348\n",
      "Shorts           139\n",
      "Name: count, dtype: int64\n",
      "------------------------------------------------------------\n",
      "language\n",
      "english    145\n",
      "spanish    137\n",
      "arabic      55\n",
      "Name: count, dtype: int64\n",
      "------------------------------------------------------------\n"
     ]
    }
   ],
   "source": [
    "columns_2 = ['yt_channel_type', 'language']\n",
    "for column in columns_2:\n",
    "    print(df_test[column].value_counts()) #normalize=True\n",
    "    print('-' * 60)"
   ]
  },
  {
   "cell_type": "markdown",
   "id": "f672abe5",
   "metadata": {
    "papermill": {
     "duration": 0.028789,
     "end_time": "2024-10-18T10:08:38.074977",
     "exception": false,
     "start_time": "2024-10-18T10:08:38.046188",
     "status": "completed"
    },
    "tags": []
   },
   "source": [
    "Из полученных данных видим, что тестовый датафрейм содержит 55608  строк и 15 столбцов (отсутвует столбец с целевой переменной cartoon), полных дубликатов нет. В данных наблюдается схожая с обучающей выборкой картина. В столбцах seconds, is-shorts, broadcast, language достаточно большое количество пропусков. Столлбцы - broadcast,is_shorts, flag_closed, international - имеют только два значения 1 и 0, но в них есть пропуски. Также поммимо пропусков в столбце language есть три значения языка (английский, испанский и арабский), аналогично обучающей выборке. Уникальные значения в столбце yt_channel_type в обучающей и тестовой выборках также совпадают."
   ]
  },
  {
   "cell_type": "markdown",
   "id": "5673467f",
   "metadata": {
    "papermill": {
     "duration": 0.029741,
     "end_time": "2024-10-18T10:08:38.134997",
     "exception": false,
     "start_time": "2024-10-18T10:08:38.105256",
     "status": "completed"
    },
    "tags": []
   },
   "source": [
    "**Вывод:** Провели загрузку данных и первичное ознакомление с ними. Видим что структура данных обучающей и тестовой выборки совпадают, за исключением столбца cartoon, который является целевой переменной и отсутсвует в тестовой выборкен. В данных нет полных дубликатов, присутвуют пропуски, которые для отдельных признаков надо попробовать обработать. В целевой переменной наблюдается сильный дисбаланс классов и предварительно в данных присутсвуют тексты на 3 языках (английский, испанский, арабский), это необходимо учесть при разработке решения для классификации."
   ]
  },
  {
   "cell_type": "markdown",
   "id": "4226349a",
   "metadata": {
    "papermill": {
     "duration": 0.035056,
     "end_time": "2024-10-18T10:08:38.209959",
     "exception": false,
     "start_time": "2024-10-18T10:08:38.174903",
     "status": "completed"
    },
    "tags": []
   },
   "source": [
    "### Посмотрим sample_submission.csv "
   ]
  },
  {
   "cell_type": "code",
   "execution_count": 10,
   "id": "1a4790f7",
   "metadata": {
    "execution": {
     "iopub.execute_input": "2024-10-18T10:08:38.275352Z",
     "iopub.status.busy": "2024-10-18T10:08:38.274880Z",
     "iopub.status.idle": "2024-10-18T10:08:38.386965Z",
     "shell.execute_reply": "2024-10-18T10:08:38.385676Z"
    },
    "papermill": {
     "duration": 0.144875,
     "end_time": "2024-10-18T10:08:38.389764",
     "exception": false,
     "start_time": "2024-10-18T10:08:38.244889",
     "status": "completed"
    },
    "tags": []
   },
   "outputs": [
    {
     "data": {
      "text/html": [
       "<div>\n",
       "<style scoped>\n",
       "    .dataframe tbody tr th:only-of-type {\n",
       "        vertical-align: middle;\n",
       "    }\n",
       "\n",
       "    .dataframe tbody tr th {\n",
       "        vertical-align: top;\n",
       "    }\n",
       "\n",
       "    .dataframe thead th {\n",
       "        text-align: right;\n",
       "    }\n",
       "</style>\n",
       "<table border=\"1\" class=\"dataframe\">\n",
       "  <thead>\n",
       "    <tr style=\"text-align: right;\">\n",
       "      <th></th>\n",
       "      <th>yt_reel_id</th>\n",
       "      <th>cartoon</th>\n",
       "    </tr>\n",
       "  </thead>\n",
       "  <tbody>\n",
       "    <tr>\n",
       "      <th>0</th>\n",
       "      <td>RBw4j0aMWyM</td>\n",
       "      <td>Бегемотик</td>\n",
       "    </tr>\n",
       "    <tr>\n",
       "      <th>1</th>\n",
       "      <td>5wTfpmlZe5k</td>\n",
       "      <td>Космохомяк</td>\n",
       "    </tr>\n",
       "    <tr>\n",
       "      <th>2</th>\n",
       "      <td>Fd9YA-oDjSo</td>\n",
       "      <td>Улитка</td>\n",
       "    </tr>\n",
       "    <tr>\n",
       "      <th>3</th>\n",
       "      <td>NXCHY_J-5v0</td>\n",
       "      <td>Космохомяк</td>\n",
       "    </tr>\n",
       "    <tr>\n",
       "      <th>4</th>\n",
       "      <td>XM-GRekoYzs</td>\n",
       "      <td>Космохомяк</td>\n",
       "    </tr>\n",
       "  </tbody>\n",
       "</table>\n",
       "</div>"
      ],
      "text/plain": [
       "    yt_reel_id     cartoon\n",
       "0  RBw4j0aMWyM   Бегемотик\n",
       "1  5wTfpmlZe5k  Космохомяк\n",
       "2  Fd9YA-oDjSo      Улитка\n",
       "3  NXCHY_J-5v0  Космохомяк\n",
       "4  XM-GRekoYzs  Космохомяк"
      ]
     },
     "execution_count": 10,
     "metadata": {},
     "output_type": "execute_result"
    }
   ],
   "source": [
    "submission_sampl = pd.read_csv('/kaggle/input/animation-reels-classification/sample_submission.csv')\n",
    "submission_sampl.head()"
   ]
  },
  {
   "cell_type": "markdown",
   "id": "723b7fda",
   "metadata": {
    "papermill": {
     "duration": 0.03098,
     "end_time": "2024-10-18T10:08:38.451088",
     "exception": false,
     "start_time": "2024-10-18T10:08:38.420108",
     "status": "completed"
    },
    "tags": []
   },
   "source": [
    "## Проведем исследовательский анализ данных и по необходимости обработаем пропуски"
   ]
  },
  {
   "cell_type": "markdown",
   "id": "c45e0176",
   "metadata": {
    "papermill": {
     "duration": 0.030331,
     "end_time": "2024-10-18T10:08:38.511509",
     "exception": false,
     "start_time": "2024-10-18T10:08:38.481178",
     "status": "completed"
    },
    "tags": []
   },
   "source": [
    "### Обучающая выборка"
   ]
  },
  {
   "cell_type": "markdown",
   "id": "af0e992f",
   "metadata": {
    "papermill": {
     "duration": 0.02853,
     "end_time": "2024-10-18T10:08:38.569929",
     "exception": false,
     "start_time": "2024-10-18T10:08:38.541399",
     "status": "completed"
    },
    "tags": []
   },
   "source": [
    "#### Посмотрим данные, в котрых отсутсвуют название ролика"
   ]
  },
  {
   "cell_type": "code",
   "execution_count": 11,
   "id": "4464d9a2",
   "metadata": {
    "execution": {
     "iopub.execute_input": "2024-10-18T10:08:38.630325Z",
     "iopub.status.busy": "2024-10-18T10:08:38.629870Z",
     "iopub.status.idle": "2024-10-18T10:08:38.659846Z",
     "shell.execute_reply": "2024-10-18T10:08:38.658591Z"
    },
    "papermill": {
     "duration": 0.063712,
     "end_time": "2024-10-18T10:08:38.662956",
     "exception": false,
     "start_time": "2024-10-18T10:08:38.599244",
     "status": "completed"
    },
    "tags": []
   },
   "outputs": [],
   "source": [
    "df = df_train.query('reel_name.isna()')"
   ]
  },
  {
   "cell_type": "code",
   "execution_count": 12,
   "id": "2a12e06b",
   "metadata": {
    "execution": {
     "iopub.execute_input": "2024-10-18T10:08:38.722545Z",
     "iopub.status.busy": "2024-10-18T10:08:38.722101Z",
     "iopub.status.idle": "2024-10-18T10:08:38.766287Z",
     "shell.execute_reply": "2024-10-18T10:08:38.764979Z"
    },
    "papermill": {
     "duration": 0.077536,
     "end_time": "2024-10-18T10:08:38.769060",
     "exception": false,
     "start_time": "2024-10-18T10:08:38.691524",
     "status": "completed"
    },
    "tags": []
   },
   "outputs": [
    {
     "data": {
      "text/html": [
       "<div>\n",
       "<style scoped>\n",
       "    .dataframe tbody tr th:only-of-type {\n",
       "        vertical-align: middle;\n",
       "    }\n",
       "\n",
       "    .dataframe tbody tr th {\n",
       "        vertical-align: top;\n",
       "    }\n",
       "\n",
       "    .dataframe thead th {\n",
       "        text-align: right;\n",
       "    }\n",
       "</style>\n",
       "<table border=\"1\" class=\"dataframe\">\n",
       "  <thead>\n",
       "    <tr style=\"text-align: right;\">\n",
       "      <th></th>\n",
       "      <th>date</th>\n",
       "      <th>reel_name</th>\n",
       "      <th>yt_reel_id</th>\n",
       "      <th>cartoon</th>\n",
       "      <th>url</th>\n",
       "      <th>text</th>\n",
       "      <th>seconds</th>\n",
       "      <th>is_shorts</th>\n",
       "      <th>broadcast</th>\n",
       "      <th>yt_channel_id</th>\n",
       "      <th>yt_channel_name</th>\n",
       "      <th>yt_ch_url</th>\n",
       "      <th>yt_channel_type</th>\n",
       "      <th>flag_closed</th>\n",
       "      <th>international</th>\n",
       "      <th>language</th>\n",
       "    </tr>\n",
       "  </thead>\n",
       "  <tbody>\n",
       "    <tr>\n",
       "      <th>61</th>\n",
       "      <td>2021-10-27</td>\n",
       "      <td>Лев играет в свои любимые игрушки. Веселое дет...</td>\n",
       "      <td>2wi_Yd-yFnI</td>\n",
       "      <td>none</td>\n",
       "      <td>https://www.youtube.com/watch?v=2wi_Yd-yFnI</td>\n",
       "      <td>[Лев играет в свои любимые игрушки. Веселое де...</td>\n",
       "      <td>221.0</td>\n",
       "      <td>0.0</td>\n",
       "      <td>none</td>\n",
       "      <td>UCfBtfDbuAH6tZnb-Q9EzauA</td>\n",
       "      <td>LEV family SHOW RUS</td>\n",
       "      <td>https://youtube.com/channel/UCfBtfDbuAH6tZnb-Q...</td>\n",
       "      <td>Блогеры</td>\n",
       "      <td>0.0</td>\n",
       "      <td>0.0</td>\n",
       "      <td>NaN</td>\n",
       "    </tr>\n",
       "    <tr>\n",
       "      <th>337</th>\n",
       "      <td>2022-05-31</td>\n",
       "      <td>Мы в машине и детская песенка Колеса у автобус...</td>\n",
       "      <td>pb4jQl18ISM</td>\n",
       "      <td>none</td>\n",
       "      <td>https://www.youtube.com/watch?v=pb4jQl18ISM</td>\n",
       "      <td>[Мы в машине и детская песенка Колеса у автобу...</td>\n",
       "      <td>137.0</td>\n",
       "      <td>0.0</td>\n",
       "      <td>none</td>\n",
       "      <td>UCfBtfDbuAH6tZnb-Q9EzauA</td>\n",
       "      <td>LEV family SHOW RUS</td>\n",
       "      <td>https://youtube.com/channel/UCfBtfDbuAH6tZnb-Q...</td>\n",
       "      <td>Блогеры</td>\n",
       "      <td>0.0</td>\n",
       "      <td>0.0</td>\n",
       "      <td>NaN</td>\n",
       "    </tr>\n",
       "    <tr>\n",
       "      <th>993</th>\n",
       "      <td>2020-06-05</td>\n",
       "      <td>Лев и папа и их веселые истории</td>\n",
       "      <td>KL3CoVnBpow</td>\n",
       "      <td>none</td>\n",
       "      <td>https://www.youtube.com/watch?v=KL3CoVnBpow</td>\n",
       "      <td>[Лев и папа и их веселые истории] Сборник весе...</td>\n",
       "      <td>375.0</td>\n",
       "      <td>0.0</td>\n",
       "      <td>none</td>\n",
       "      <td>UCfBtfDbuAH6tZnb-Q9EzauA</td>\n",
       "      <td>LEV family SHOW RUS</td>\n",
       "      <td>https://youtube.com/channel/UCfBtfDbuAH6tZnb-Q...</td>\n",
       "      <td>Блогеры</td>\n",
       "      <td>0.0</td>\n",
       "      <td>0.0</td>\n",
       "      <td>NaN</td>\n",
       "    </tr>\n",
       "    <tr>\n",
       "      <th>1676</th>\n",
       "      <td>2023-03-23</td>\n",
       "      <td>Изучаем транспорт и спецтехнику. Обучающее вид...</td>\n",
       "      <td>pyW5WJlseKs</td>\n",
       "      <td>none</td>\n",
       "      <td>https://www.youtube.com/watch?v=pyW5WJlseKs</td>\n",
       "      <td>[Изучаем транспорт и спецтехнику. Обучающее ви...</td>\n",
       "      <td>342.0</td>\n",
       "      <td>0.0</td>\n",
       "      <td>none</td>\n",
       "      <td>UCfBtfDbuAH6tZnb-Q9EzauA</td>\n",
       "      <td>LEV family SHOW RUS</td>\n",
       "      <td>https://youtube.com/channel/UCfBtfDbuAH6tZnb-Q...</td>\n",
       "      <td>Блогеры</td>\n",
       "      <td>0.0</td>\n",
       "      <td>0.0</td>\n",
       "      <td>NaN</td>\n",
       "    </tr>\n",
       "    <tr>\n",
       "      <th>2386</th>\n",
       "      <td>2021-04-30</td>\n",
       "      <td>Стикероспа пришла в наш дом. Пришлось вызвать ...</td>\n",
       "      <td>j_GwpJC6J-M</td>\n",
       "      <td>none</td>\n",
       "      <td>https://www.youtube.com/watch?v=j_GwpJC6J-M</td>\n",
       "      <td>[Стикероспа пришла в наш дом. Пришлось вызвать...</td>\n",
       "      <td>316.0</td>\n",
       "      <td>0.0</td>\n",
       "      <td>none</td>\n",
       "      <td>UCfBtfDbuAH6tZnb-Q9EzauA</td>\n",
       "      <td>LEV family SHOW RUS</td>\n",
       "      <td>https://youtube.com/channel/UCfBtfDbuAH6tZnb-Q...</td>\n",
       "      <td>Блогеры</td>\n",
       "      <td>0.0</td>\n",
       "      <td>0.0</td>\n",
       "      <td>NaN</td>\n",
       "    </tr>\n",
       "    <tr>\n",
       "      <th>...</th>\n",
       "      <td>...</td>\n",
       "      <td>...</td>\n",
       "      <td>...</td>\n",
       "      <td>...</td>\n",
       "      <td>...</td>\n",
       "      <td>...</td>\n",
       "      <td>...</td>\n",
       "      <td>...</td>\n",
       "      <td>...</td>\n",
       "      <td>...</td>\n",
       "      <td>...</td>\n",
       "      <td>...</td>\n",
       "      <td>...</td>\n",
       "      <td>...</td>\n",
       "      <td>...</td>\n",
       "      <td>...</td>\n",
       "    </tr>\n",
       "    <tr>\n",
       "      <th>79680</th>\n",
       "      <td>2022-11-09</td>\n",
       "      <td>Прилипло  shorts</td>\n",
       "      <td>SuVCJhFB_Ys</td>\n",
       "      <td>none</td>\n",
       "      <td>https://www.youtube.com/watch?v=SuVCJhFB_Ys</td>\n",
       "      <td>[Прилипло  shorts] Что то прилипла к лицуЦелое...</td>\n",
       "      <td>16.0</td>\n",
       "      <td>1.0</td>\n",
       "      <td>none</td>\n",
       "      <td>UCfBtfDbuAH6tZnb-Q9EzauA</td>\n",
       "      <td>LEV family SHOW RUS</td>\n",
       "      <td>https://youtube.com/channel/UCfBtfDbuAH6tZnb-Q...</td>\n",
       "      <td>Блогеры</td>\n",
       "      <td>0.0</td>\n",
       "      <td>0.0</td>\n",
       "      <td>NaN</td>\n",
       "    </tr>\n",
       "    <tr>\n",
       "      <th>80241</th>\n",
       "      <td>2020-06-18</td>\n",
       "      <td>Лев и история про Монстра под кроватью / Monst...</td>\n",
       "      <td>xxGvagkLwwc</td>\n",
       "      <td>none</td>\n",
       "      <td>https://www.youtube.com/watch?v=xxGvagkLwwc</td>\n",
       "      <td>[Лев и история про Монстра под кроватью / Mons...</td>\n",
       "      <td>129.0</td>\n",
       "      <td>0.0</td>\n",
       "      <td>none</td>\n",
       "      <td>UCfBtfDbuAH6tZnb-Q9EzauA</td>\n",
       "      <td>LEV family SHOW RUS</td>\n",
       "      <td>https://youtube.com/channel/UCfBtfDbuAH6tZnb-Q...</td>\n",
       "      <td>Блогеры</td>\n",
       "      <td>0.0</td>\n",
       "      <td>0.0</td>\n",
       "      <td>NaN</td>\n",
       "    </tr>\n",
       "    <tr>\n",
       "      <th>80996</th>\n",
       "      <td>2023-01-23</td>\n",
       "      <td>Лёва и Алиса и их волшебный рисунок. Детская в...</td>\n",
       "      <td>6RoaGJNqYXQ</td>\n",
       "      <td>none</td>\n",
       "      <td>https://www.youtube.com/watch?v=6RoaGJNqYXQ</td>\n",
       "      <td>[Лёва и Алиса и их волшебный рисунок. Детская ...</td>\n",
       "      <td>345.0</td>\n",
       "      <td>0.0</td>\n",
       "      <td>none</td>\n",
       "      <td>UCfBtfDbuAH6tZnb-Q9EzauA</td>\n",
       "      <td>LEV family SHOW RUS</td>\n",
       "      <td>https://youtube.com/channel/UCfBtfDbuAH6tZnb-Q...</td>\n",
       "      <td>Блогеры</td>\n",
       "      <td>0.0</td>\n",
       "      <td>0.0</td>\n",
       "      <td>NaN</td>\n",
       "    </tr>\n",
       "    <tr>\n",
       "      <th>81919</th>\n",
       "      <td>2020-04-18</td>\n",
       "      <td>Лев и папа играют в Лего и другие истории</td>\n",
       "      <td>VEq4qyyqPqE</td>\n",
       "      <td>none</td>\n",
       "      <td>https://www.youtube.com/watch?v=VEq4qyyqPqE</td>\n",
       "      <td>[Лев и папа играют в Лего и другие истории] Сб...</td>\n",
       "      <td>603.0</td>\n",
       "      <td>0.0</td>\n",
       "      <td>none</td>\n",
       "      <td>UCfBtfDbuAH6tZnb-Q9EzauA</td>\n",
       "      <td>LEV family SHOW RUS</td>\n",
       "      <td>https://youtube.com/channel/UCfBtfDbuAH6tZnb-Q...</td>\n",
       "      <td>Блогеры</td>\n",
       "      <td>0.0</td>\n",
       "      <td>0.0</td>\n",
       "      <td>NaN</td>\n",
       "    </tr>\n",
       "    <tr>\n",
       "      <th>82325</th>\n",
       "      <td>2021-12-15</td>\n",
       "      <td>Лёва и динозавр играют в игрушки. Сборник детс...</td>\n",
       "      <td>wl8_jHYzVOk</td>\n",
       "      <td>none</td>\n",
       "      <td>https://www.youtube.com/watch?v=wl8_jHYzVOk</td>\n",
       "      <td>[Лёва и динозавр играют в игрушки. Сборник дет...</td>\n",
       "      <td>713.0</td>\n",
       "      <td>0.0</td>\n",
       "      <td>none</td>\n",
       "      <td>UCfBtfDbuAH6tZnb-Q9EzauA</td>\n",
       "      <td>LEV family SHOW RUS</td>\n",
       "      <td>https://youtube.com/channel/UCfBtfDbuAH6tZnb-Q...</td>\n",
       "      <td>Блогеры</td>\n",
       "      <td>0.0</td>\n",
       "      <td>0.0</td>\n",
       "      <td>NaN</td>\n",
       "    </tr>\n",
       "  </tbody>\n",
       "</table>\n",
       "<p>171 rows × 16 columns</p>\n",
       "</div>"
      ],
      "text/plain": [
       "             date                                          reel_name  \\\n",
       "61     2021-10-27  Лев играет в свои любимые игрушки. Веселое дет...   \n",
       "337    2022-05-31  Мы в машине и детская песенка Колеса у автобус...   \n",
       "993    2020-06-05                    Лев и папа и их веселые истории   \n",
       "1676   2023-03-23  Изучаем транспорт и спецтехнику. Обучающее вид...   \n",
       "2386   2021-04-30  Стикероспа пришла в наш дом. Пришлось вызвать ...   \n",
       "...           ...                                                ...   \n",
       "79680  2022-11-09                                   Прилипло  shorts   \n",
       "80241  2020-06-18  Лев и история про Монстра под кроватью / Monst...   \n",
       "80996  2023-01-23  Лёва и Алиса и их волшебный рисунок. Детская в...   \n",
       "81919  2020-04-18          Лев и папа играют в Лего и другие истории   \n",
       "82325  2021-12-15  Лёва и динозавр играют в игрушки. Сборник детс...   \n",
       "\n",
       "        yt_reel_id cartoon                                          url  \\\n",
       "61     2wi_Yd-yFnI    none  https://www.youtube.com/watch?v=2wi_Yd-yFnI   \n",
       "337    pb4jQl18ISM    none  https://www.youtube.com/watch?v=pb4jQl18ISM   \n",
       "993    KL3CoVnBpow    none  https://www.youtube.com/watch?v=KL3CoVnBpow   \n",
       "1676   pyW5WJlseKs    none  https://www.youtube.com/watch?v=pyW5WJlseKs   \n",
       "2386   j_GwpJC6J-M    none  https://www.youtube.com/watch?v=j_GwpJC6J-M   \n",
       "...            ...     ...                                          ...   \n",
       "79680  SuVCJhFB_Ys    none  https://www.youtube.com/watch?v=SuVCJhFB_Ys   \n",
       "80241  xxGvagkLwwc    none  https://www.youtube.com/watch?v=xxGvagkLwwc   \n",
       "80996  6RoaGJNqYXQ    none  https://www.youtube.com/watch?v=6RoaGJNqYXQ   \n",
       "81919  VEq4qyyqPqE    none  https://www.youtube.com/watch?v=VEq4qyyqPqE   \n",
       "82325  wl8_jHYzVOk    none  https://www.youtube.com/watch?v=wl8_jHYzVOk   \n",
       "\n",
       "                                                    text  seconds  is_shorts  \\\n",
       "61     [Лев играет в свои любимые игрушки. Веселое де...    221.0        0.0   \n",
       "337    [Мы в машине и детская песенка Колеса у автобу...    137.0        0.0   \n",
       "993    [Лев и папа и их веселые истории] Сборник весе...    375.0        0.0   \n",
       "1676   [Изучаем транспорт и спецтехнику. Обучающее ви...    342.0        0.0   \n",
       "2386   [Стикероспа пришла в наш дом. Пришлось вызвать...    316.0        0.0   \n",
       "...                                                  ...      ...        ...   \n",
       "79680  [Прилипло  shorts] Что то прилипла к лицуЦелое...     16.0        1.0   \n",
       "80241  [Лев и история про Монстра под кроватью / Mons...    129.0        0.0   \n",
       "80996  [Лёва и Алиса и их волшебный рисунок. Детская ...    345.0        0.0   \n",
       "81919  [Лев и папа играют в Лего и другие истории] Сб...    603.0        0.0   \n",
       "82325  [Лёва и динозавр играют в игрушки. Сборник дет...    713.0        0.0   \n",
       "\n",
       "      broadcast             yt_channel_id      yt_channel_name  \\\n",
       "61         none  UCfBtfDbuAH6tZnb-Q9EzauA  LEV family SHOW RUS   \n",
       "337        none  UCfBtfDbuAH6tZnb-Q9EzauA  LEV family SHOW RUS   \n",
       "993        none  UCfBtfDbuAH6tZnb-Q9EzauA  LEV family SHOW RUS   \n",
       "1676       none  UCfBtfDbuAH6tZnb-Q9EzauA  LEV family SHOW RUS   \n",
       "2386       none  UCfBtfDbuAH6tZnb-Q9EzauA  LEV family SHOW RUS   \n",
       "...         ...                       ...                  ...   \n",
       "79680      none  UCfBtfDbuAH6tZnb-Q9EzauA  LEV family SHOW RUS   \n",
       "80241      none  UCfBtfDbuAH6tZnb-Q9EzauA  LEV family SHOW RUS   \n",
       "80996      none  UCfBtfDbuAH6tZnb-Q9EzauA  LEV family SHOW RUS   \n",
       "81919      none  UCfBtfDbuAH6tZnb-Q9EzauA  LEV family SHOW RUS   \n",
       "82325      none  UCfBtfDbuAH6tZnb-Q9EzauA  LEV family SHOW RUS   \n",
       "\n",
       "                                               yt_ch_url yt_channel_type  \\\n",
       "61     https://youtube.com/channel/UCfBtfDbuAH6tZnb-Q...         Блогеры   \n",
       "337    https://youtube.com/channel/UCfBtfDbuAH6tZnb-Q...         Блогеры   \n",
       "993    https://youtube.com/channel/UCfBtfDbuAH6tZnb-Q...         Блогеры   \n",
       "1676   https://youtube.com/channel/UCfBtfDbuAH6tZnb-Q...         Блогеры   \n",
       "2386   https://youtube.com/channel/UCfBtfDbuAH6tZnb-Q...         Блогеры   \n",
       "...                                                  ...             ...   \n",
       "79680  https://youtube.com/channel/UCfBtfDbuAH6tZnb-Q...         Блогеры   \n",
       "80241  https://youtube.com/channel/UCfBtfDbuAH6tZnb-Q...         Блогеры   \n",
       "80996  https://youtube.com/channel/UCfBtfDbuAH6tZnb-Q...         Блогеры   \n",
       "81919  https://youtube.com/channel/UCfBtfDbuAH6tZnb-Q...         Блогеры   \n",
       "82325  https://youtube.com/channel/UCfBtfDbuAH6tZnb-Q...         Блогеры   \n",
       "\n",
       "       flag_closed  international language  \n",
       "61             0.0            0.0      NaN  \n",
       "337            0.0            0.0      NaN  \n",
       "993            0.0            0.0      NaN  \n",
       "1676           0.0            0.0      NaN  \n",
       "2386           0.0            0.0      NaN  \n",
       "...            ...            ...      ...  \n",
       "79680          0.0            0.0      NaN  \n",
       "80241          0.0            0.0      NaN  \n",
       "80996          0.0            0.0      NaN  \n",
       "81919          0.0            0.0      NaN  \n",
       "82325          0.0            0.0      NaN  \n",
       "\n",
       "[171 rows x 16 columns]"
      ]
     },
     "execution_count": 12,
     "metadata": {},
     "output_type": "execute_result"
    }
   ],
   "source": [
    "df_train.query('yt_channel_id == \"UCfBtfDbuAH6tZnb-Q9EzauA\"')"
   ]
  },
  {
   "cell_type": "code",
   "execution_count": 13,
   "id": "0127f020",
   "metadata": {
    "execution": {
     "iopub.execute_input": "2024-10-18T10:08:38.830415Z",
     "iopub.status.busy": "2024-10-18T10:08:38.829982Z",
     "iopub.status.idle": "2024-10-18T10:08:38.866471Z",
     "shell.execute_reply": "2024-10-18T10:08:38.865321Z"
    },
    "papermill": {
     "duration": 0.070441,
     "end_time": "2024-10-18T10:08:38.869027",
     "exception": false,
     "start_time": "2024-10-18T10:08:38.798586",
     "status": "completed"
    },
    "tags": []
   },
   "outputs": [
    {
     "data": {
      "text/html": [
       "<div>\n",
       "<style scoped>\n",
       "    .dataframe tbody tr th:only-of-type {\n",
       "        vertical-align: middle;\n",
       "    }\n",
       "\n",
       "    .dataframe tbody tr th {\n",
       "        vertical-align: top;\n",
       "    }\n",
       "\n",
       "    .dataframe thead th {\n",
       "        text-align: right;\n",
       "    }\n",
       "</style>\n",
       "<table border=\"1\" class=\"dataframe\">\n",
       "  <thead>\n",
       "    <tr style=\"text-align: right;\">\n",
       "      <th></th>\n",
       "      <th>date</th>\n",
       "      <th>reel_name</th>\n",
       "      <th>yt_reel_id</th>\n",
       "      <th>cartoon</th>\n",
       "      <th>url</th>\n",
       "      <th>text</th>\n",
       "      <th>seconds</th>\n",
       "      <th>is_shorts</th>\n",
       "      <th>broadcast</th>\n",
       "      <th>yt_channel_id</th>\n",
       "      <th>yt_channel_name</th>\n",
       "      <th>yt_ch_url</th>\n",
       "      <th>yt_channel_type</th>\n",
       "      <th>flag_closed</th>\n",
       "      <th>international</th>\n",
       "      <th>language</th>\n",
       "    </tr>\n",
       "  </thead>\n",
       "  <tbody>\n",
       "    <tr>\n",
       "      <th>12457</th>\n",
       "      <td>2022-06-28</td>\n",
       "      <td>Лев и Семья с детской песенкой \"Акулёнок\" весе...</td>\n",
       "      <td>l6q-bD-dhso</td>\n",
       "      <td>Акуленок</td>\n",
       "      <td>https://www.youtube.com/watch?v=l6q-bD-dhso</td>\n",
       "      <td>[Лев и Семья с детской песенкой \"Акулёнок\" вес...</td>\n",
       "      <td>132.0</td>\n",
       "      <td>0.0</td>\n",
       "      <td>none</td>\n",
       "      <td>UCfBtfDbuAH6tZnb-Q9EzauA</td>\n",
       "      <td>LEV family SHOW RUS</td>\n",
       "      <td>https://youtube.com/channel/UCfBtfDbuAH6tZnb-Q...</td>\n",
       "      <td>Блогеры</td>\n",
       "      <td>0.0</td>\n",
       "      <td>0.0</td>\n",
       "      <td>NaN</td>\n",
       "    </tr>\n",
       "  </tbody>\n",
       "</table>\n",
       "</div>"
      ],
      "text/plain": [
       "             date                                          reel_name  \\\n",
       "12457  2022-06-28  Лев и Семья с детской песенкой \"Акулёнок\" весе...   \n",
       "\n",
       "        yt_reel_id   cartoon                                          url  \\\n",
       "12457  l6q-bD-dhso  Акуленок  https://www.youtube.com/watch?v=l6q-bD-dhso   \n",
       "\n",
       "                                                    text  seconds  is_shorts  \\\n",
       "12457  [Лев и Семья с детской песенкой \"Акулёнок\" вес...    132.0        0.0   \n",
       "\n",
       "      broadcast             yt_channel_id      yt_channel_name  \\\n",
       "12457      none  UCfBtfDbuAH6tZnb-Q9EzauA  LEV family SHOW RUS   \n",
       "\n",
       "                                               yt_ch_url yt_channel_type  \\\n",
       "12457  https://youtube.com/channel/UCfBtfDbuAH6tZnb-Q...         Блогеры   \n",
       "\n",
       "       flag_closed  international language  \n",
       "12457          0.0            0.0      NaN  "
      ]
     },
     "execution_count": 13,
     "metadata": {},
     "output_type": "execute_result"
    }
   ],
   "source": [
    "df_train.query('yt_channel_id == \"UCfBtfDbuAH6tZnb-Q9EzauA\" & cartoon!=\"none\"')"
   ]
  },
  {
   "cell_type": "code",
   "execution_count": 14,
   "id": "6f151920",
   "metadata": {
    "execution": {
     "iopub.execute_input": "2024-10-18T10:08:38.934439Z",
     "iopub.status.busy": "2024-10-18T10:08:38.933949Z",
     "iopub.status.idle": "2024-10-18T10:08:38.976596Z",
     "shell.execute_reply": "2024-10-18T10:08:38.974977Z"
    },
    "papermill": {
     "duration": 0.080186,
     "end_time": "2024-10-18T10:08:38.979963",
     "exception": false,
     "start_time": "2024-10-18T10:08:38.899777",
     "status": "completed"
    },
    "tags": []
   },
   "outputs": [
    {
     "data": {
      "text/html": [
       "<div>\n",
       "<style scoped>\n",
       "    .dataframe tbody tr th:only-of-type {\n",
       "        vertical-align: middle;\n",
       "    }\n",
       "\n",
       "    .dataframe tbody tr th {\n",
       "        vertical-align: top;\n",
       "    }\n",
       "\n",
       "    .dataframe thead th {\n",
       "        text-align: right;\n",
       "    }\n",
       "</style>\n",
       "<table border=\"1\" class=\"dataframe\">\n",
       "  <thead>\n",
       "    <tr style=\"text-align: right;\">\n",
       "      <th></th>\n",
       "      <th>date</th>\n",
       "      <th>reel_name</th>\n",
       "      <th>yt_reel_id</th>\n",
       "      <th>cartoon</th>\n",
       "      <th>url</th>\n",
       "      <th>text</th>\n",
       "      <th>seconds</th>\n",
       "      <th>is_shorts</th>\n",
       "      <th>broadcast</th>\n",
       "      <th>yt_channel_id</th>\n",
       "      <th>yt_channel_name</th>\n",
       "      <th>yt_ch_url</th>\n",
       "      <th>yt_channel_type</th>\n",
       "      <th>flag_closed</th>\n",
       "      <th>international</th>\n",
       "      <th>language</th>\n",
       "    </tr>\n",
       "  </thead>\n",
       "  <tbody>\n",
       "    <tr>\n",
       "      <th>57</th>\n",
       "      <td>2021-08-21</td>\n",
       "      <td>simple dimple/pop it/estresse boll/marbo mexe</td>\n",
       "      <td>_q-AIA4CwCE</td>\n",
       "      <td>none</td>\n",
       "      <td>https://www.youtube.com/watch?v=_q-AIA4CwCE</td>\n",
       "      <td>[simple dimple/pop it/estresse boll/marbo mexe]</td>\n",
       "      <td>NaN</td>\n",
       "      <td>NaN</td>\n",
       "      <td>NaN</td>\n",
       "      <td>UCUT1XWGIx6MxWmtPsGYcBEg</td>\n",
       "      <td>Bush Baby World Пушастики</td>\n",
       "      <td>https://www.youtube.com/channel/UCUT1XWGIx6MxW...</td>\n",
       "      <td>Мультфильмы</td>\n",
       "      <td>0.0</td>\n",
       "      <td>0.0</td>\n",
       "      <td>NaN</td>\n",
       "    </tr>\n",
       "    <tr>\n",
       "      <th>63</th>\n",
       "      <td>2022-03-01</td>\n",
       "      <td>ami meus Fidgets créditos para Chik Fidget sho...</td>\n",
       "      <td>VF07-IQb-s0</td>\n",
       "      <td>none</td>\n",
       "      <td>https://www.youtube.com/watch?v=VF07-IQb-s0</td>\n",
       "      <td>[ami meus Fidgets créditos para Chik Fidget sh...</td>\n",
       "      <td>NaN</td>\n",
       "      <td>NaN</td>\n",
       "      <td>NaN</td>\n",
       "      <td>UCUT1XWGIx6MxWmtPsGYcBEg</td>\n",
       "      <td>Bush Baby World Пушастики</td>\n",
       "      <td>https://www.youtube.com/channel/UCUT1XWGIx6MxW...</td>\n",
       "      <td>Мультфильмы</td>\n",
       "      <td>0.0</td>\n",
       "      <td>0.0</td>\n",
       "      <td>NaN</td>\n",
       "    </tr>\n",
       "    <tr>\n",
       "      <th>73</th>\n",
       "      <td>2022-03-15</td>\n",
       "      <td>mágica com meus Fidgets shorts fidgettoys popit</td>\n",
       "      <td>8t9pYfw9RAs</td>\n",
       "      <td>none</td>\n",
       "      <td>https://www.youtube.com/watch?v=8t9pYfw9RAs</td>\n",
       "      <td>[mágica com meus Fidgets shorts fidgettoys pop...</td>\n",
       "      <td>NaN</td>\n",
       "      <td>NaN</td>\n",
       "      <td>NaN</td>\n",
       "      <td>UCUT1XWGIx6MxWmtPsGYcBEg</td>\n",
       "      <td>Bush Baby World Пушастики</td>\n",
       "      <td>https://www.youtube.com/channel/UCUT1XWGIx6MxW...</td>\n",
       "      <td>Мультфильмы</td>\n",
       "      <td>0.0</td>\n",
       "      <td>0.0</td>\n",
       "      <td>NaN</td>\n",
       "    </tr>\n",
       "    <tr>\n",
       "      <th>106</th>\n",
       "      <td>2023-01-09</td>\n",
       "      <td>fazendo a lancheira das babys</td>\n",
       "      <td>qIwRDGKs1cU</td>\n",
       "      <td>none</td>\n",
       "      <td>https://www.youtube.com/watch?v=qIwRDGKs1cU</td>\n",
       "      <td>[fazendo a lancheira das babys] shortsviral sh...</td>\n",
       "      <td>NaN</td>\n",
       "      <td>NaN</td>\n",
       "      <td>NaN</td>\n",
       "      <td>UCUT1XWGIx6MxWmtPsGYcBEg</td>\n",
       "      <td>Bush Baby World Пушастики</td>\n",
       "      <td>https://www.youtube.com/channel/UCUT1XWGIx6MxW...</td>\n",
       "      <td>Мультфильмы</td>\n",
       "      <td>0.0</td>\n",
       "      <td>0.0</td>\n",
       "      <td>NaN</td>\n",
       "    </tr>\n",
       "    <tr>\n",
       "      <th>117</th>\n",
       "      <td>2022-12-08</td>\n",
       "      <td>minhas miçangas organizadas</td>\n",
       "      <td>57HD54a4rD8</td>\n",
       "      <td>none</td>\n",
       "      <td>https://www.youtube.com/watch?v=57HD54a4rD8</td>\n",
       "      <td>[minhas miçangas organizadas] shortsviral shor...</td>\n",
       "      <td>NaN</td>\n",
       "      <td>NaN</td>\n",
       "      <td>NaN</td>\n",
       "      <td>UCUT1XWGIx6MxWmtPsGYcBEg</td>\n",
       "      <td>Bush Baby World Пушастики</td>\n",
       "      <td>https://www.youtube.com/channel/UCUT1XWGIx6MxW...</td>\n",
       "      <td>Мультфильмы</td>\n",
       "      <td>0.0</td>\n",
       "      <td>0.0</td>\n",
       "      <td>NaN</td>\n",
       "    </tr>\n",
       "    <tr>\n",
       "      <th>...</th>\n",
       "      <td>...</td>\n",
       "      <td>...</td>\n",
       "      <td>...</td>\n",
       "      <td>...</td>\n",
       "      <td>...</td>\n",
       "      <td>...</td>\n",
       "      <td>...</td>\n",
       "      <td>...</td>\n",
       "      <td>...</td>\n",
       "      <td>...</td>\n",
       "      <td>...</td>\n",
       "      <td>...</td>\n",
       "      <td>...</td>\n",
       "      <td>...</td>\n",
       "      <td>...</td>\n",
       "      <td>...</td>\n",
       "    </tr>\n",
       "    <tr>\n",
       "      <th>82980</th>\n",
       "      <td>2022-02-03</td>\n",
       "      <td>Dimple digeti Mundo da soh</td>\n",
       "      <td>HuMTBRk64Zk</td>\n",
       "      <td>none</td>\n",
       "      <td>https://www.youtube.com/watch?v=HuMTBRk64Zk</td>\n",
       "      <td>[Dimple digeti Mundo da soh]</td>\n",
       "      <td>NaN</td>\n",
       "      <td>NaN</td>\n",
       "      <td>NaN</td>\n",
       "      <td>UCUT1XWGIx6MxWmtPsGYcBEg</td>\n",
       "      <td>Bush Baby World Пушастики</td>\n",
       "      <td>https://www.youtube.com/channel/UCUT1XWGIx6MxW...</td>\n",
       "      <td>Мультфильмы</td>\n",
       "      <td>0.0</td>\n",
       "      <td>0.0</td>\n",
       "      <td>NaN</td>\n",
       "    </tr>\n",
       "    <tr>\n",
       "      <th>83215</th>\n",
       "      <td>2022-12-08</td>\n",
       "      <td>pulseira nova</td>\n",
       "      <td>KtVZCL2FrdI</td>\n",
       "      <td>none</td>\n",
       "      <td>https://www.youtube.com/watch?v=KtVZCL2FrdI</td>\n",
       "      <td>[pulseira nova] shortsviral shorts deixaolike ...</td>\n",
       "      <td>NaN</td>\n",
       "      <td>NaN</td>\n",
       "      <td>NaN</td>\n",
       "      <td>UCUT1XWGIx6MxWmtPsGYcBEg</td>\n",
       "      <td>Bush Baby World Пушастики</td>\n",
       "      <td>https://www.youtube.com/channel/UCUT1XWGIx6MxW...</td>\n",
       "      <td>Мультфильмы</td>\n",
       "      <td>0.0</td>\n",
       "      <td>0.0</td>\n",
       "      <td>NaN</td>\n",
       "    </tr>\n",
       "    <tr>\n",
       "      <th>83244</th>\n",
       "      <td>2022-04-14</td>\n",
       "      <td>ensinando a como fazer macacão em comemoração ...</td>\n",
       "      <td>P1JSnDMxmRM</td>\n",
       "      <td>none</td>\n",
       "      <td>https://www.youtube.com/watch?v=P1JSnDMxmRM</td>\n",
       "      <td>[ensinando a como fazer macacão em comemoração...</td>\n",
       "      <td>NaN</td>\n",
       "      <td>NaN</td>\n",
       "      <td>NaN</td>\n",
       "      <td>UCUT1XWGIx6MxWmtPsGYcBEg</td>\n",
       "      <td>Bush Baby World Пушастики</td>\n",
       "      <td>https://www.youtube.com/channel/UCUT1XWGIx6MxW...</td>\n",
       "      <td>Мультфильмы</td>\n",
       "      <td>0.0</td>\n",
       "      <td>0.0</td>\n",
       "      <td>NaN</td>\n",
       "    </tr>\n",
       "    <tr>\n",
       "      <th>83352</th>\n",
       "      <td>2022-07-04</td>\n",
       "      <td>Untitled video</td>\n",
       "      <td>s65LNXrQ5pU</td>\n",
       "      <td>none</td>\n",
       "      <td>https://www.youtube.com/watch?v=s65LNXrQ5pU</td>\n",
       "      <td>[Untitled video]</td>\n",
       "      <td>NaN</td>\n",
       "      <td>NaN</td>\n",
       "      <td>NaN</td>\n",
       "      <td>UCUT1XWGIx6MxWmtPsGYcBEg</td>\n",
       "      <td>Bush Baby World Пушастики</td>\n",
       "      <td>https://www.youtube.com/channel/UCUT1XWGIx6MxW...</td>\n",
       "      <td>Мультфильмы</td>\n",
       "      <td>0.0</td>\n",
       "      <td>0.0</td>\n",
       "      <td>NaN</td>\n",
       "    </tr>\n",
       "    <tr>\n",
       "      <th>83367</th>\n",
       "      <td>2021-12-02</td>\n",
       "      <td>SIM OU NÃO shorts fidgettoys popit simpledimple</td>\n",
       "      <td>7UNiLJWzwKE</td>\n",
       "      <td>none</td>\n",
       "      <td>https://www.youtube.com/watch?v=7UNiLJWzwKE</td>\n",
       "      <td>[SIM OU NÃO shorts fidgettoys popit simpledimp...</td>\n",
       "      <td>NaN</td>\n",
       "      <td>NaN</td>\n",
       "      <td>NaN</td>\n",
       "      <td>UCUT1XWGIx6MxWmtPsGYcBEg</td>\n",
       "      <td>Bush Baby World Пушастики</td>\n",
       "      <td>https://www.youtube.com/channel/UCUT1XWGIx6MxW...</td>\n",
       "      <td>Мультфильмы</td>\n",
       "      <td>0.0</td>\n",
       "      <td>0.0</td>\n",
       "      <td>NaN</td>\n",
       "    </tr>\n",
       "  </tbody>\n",
       "</table>\n",
       "<p>1095 rows × 16 columns</p>\n",
       "</div>"
      ],
      "text/plain": [
       "             date                                          reel_name  \\\n",
       "57     2021-08-21      simple dimple/pop it/estresse boll/marbo mexe   \n",
       "63     2022-03-01  ami meus Fidgets créditos para Chik Fidget sho...   \n",
       "73     2022-03-15    mágica com meus Fidgets shorts fidgettoys popit   \n",
       "106    2023-01-09                      fazendo a lancheira das babys   \n",
       "117    2022-12-08                        minhas miçangas organizadas   \n",
       "...           ...                                                ...   \n",
       "82980  2022-02-03                         Dimple digeti Mundo da soh   \n",
       "83215  2022-12-08                                      pulseira nova   \n",
       "83244  2022-04-14  ensinando a como fazer macacão em comemoração ...   \n",
       "83352  2022-07-04                                     Untitled video   \n",
       "83367  2021-12-02    SIM OU NÃO shorts fidgettoys popit simpledimple   \n",
       "\n",
       "        yt_reel_id cartoon                                          url  \\\n",
       "57     _q-AIA4CwCE    none  https://www.youtube.com/watch?v=_q-AIA4CwCE   \n",
       "63     VF07-IQb-s0    none  https://www.youtube.com/watch?v=VF07-IQb-s0   \n",
       "73     8t9pYfw9RAs    none  https://www.youtube.com/watch?v=8t9pYfw9RAs   \n",
       "106    qIwRDGKs1cU    none  https://www.youtube.com/watch?v=qIwRDGKs1cU   \n",
       "117    57HD54a4rD8    none  https://www.youtube.com/watch?v=57HD54a4rD8   \n",
       "...            ...     ...                                          ...   \n",
       "82980  HuMTBRk64Zk    none  https://www.youtube.com/watch?v=HuMTBRk64Zk   \n",
       "83215  KtVZCL2FrdI    none  https://www.youtube.com/watch?v=KtVZCL2FrdI   \n",
       "83244  P1JSnDMxmRM    none  https://www.youtube.com/watch?v=P1JSnDMxmRM   \n",
       "83352  s65LNXrQ5pU    none  https://www.youtube.com/watch?v=s65LNXrQ5pU   \n",
       "83367  7UNiLJWzwKE    none  https://www.youtube.com/watch?v=7UNiLJWzwKE   \n",
       "\n",
       "                                                    text  seconds  is_shorts  \\\n",
       "57      [simple dimple/pop it/estresse boll/marbo mexe]       NaN        NaN   \n",
       "63     [ami meus Fidgets créditos para Chik Fidget sh...      NaN        NaN   \n",
       "73     [mágica com meus Fidgets shorts fidgettoys pop...      NaN        NaN   \n",
       "106    [fazendo a lancheira das babys] shortsviral sh...      NaN        NaN   \n",
       "117    [minhas miçangas organizadas] shortsviral shor...      NaN        NaN   \n",
       "...                                                  ...      ...        ...   \n",
       "82980                      [Dimple digeti Mundo da soh]       NaN        NaN   \n",
       "83215  [pulseira nova] shortsviral shorts deixaolike ...      NaN        NaN   \n",
       "83244  [ensinando a como fazer macacão em comemoração...      NaN        NaN   \n",
       "83352                                  [Untitled video]       NaN        NaN   \n",
       "83367  [SIM OU NÃO shorts fidgettoys popit simpledimp...      NaN        NaN   \n",
       "\n",
       "      broadcast             yt_channel_id            yt_channel_name  \\\n",
       "57          NaN  UCUT1XWGIx6MxWmtPsGYcBEg  Bush Baby World Пушастики   \n",
       "63          NaN  UCUT1XWGIx6MxWmtPsGYcBEg  Bush Baby World Пушастики   \n",
       "73          NaN  UCUT1XWGIx6MxWmtPsGYcBEg  Bush Baby World Пушастики   \n",
       "106         NaN  UCUT1XWGIx6MxWmtPsGYcBEg  Bush Baby World Пушастики   \n",
       "117         NaN  UCUT1XWGIx6MxWmtPsGYcBEg  Bush Baby World Пушастики   \n",
       "...         ...                       ...                        ...   \n",
       "82980       NaN  UCUT1XWGIx6MxWmtPsGYcBEg  Bush Baby World Пушастики   \n",
       "83215       NaN  UCUT1XWGIx6MxWmtPsGYcBEg  Bush Baby World Пушастики   \n",
       "83244       NaN  UCUT1XWGIx6MxWmtPsGYcBEg  Bush Baby World Пушастики   \n",
       "83352       NaN  UCUT1XWGIx6MxWmtPsGYcBEg  Bush Baby World Пушастики   \n",
       "83367       NaN  UCUT1XWGIx6MxWmtPsGYcBEg  Bush Baby World Пушастики   \n",
       "\n",
       "                                               yt_ch_url yt_channel_type  \\\n",
       "57     https://www.youtube.com/channel/UCUT1XWGIx6MxW...     Мультфильмы   \n",
       "63     https://www.youtube.com/channel/UCUT1XWGIx6MxW...     Мультфильмы   \n",
       "73     https://www.youtube.com/channel/UCUT1XWGIx6MxW...     Мультфильмы   \n",
       "106    https://www.youtube.com/channel/UCUT1XWGIx6MxW...     Мультфильмы   \n",
       "117    https://www.youtube.com/channel/UCUT1XWGIx6MxW...     Мультфильмы   \n",
       "...                                                  ...             ...   \n",
       "82980  https://www.youtube.com/channel/UCUT1XWGIx6MxW...     Мультфильмы   \n",
       "83215  https://www.youtube.com/channel/UCUT1XWGIx6MxW...     Мультфильмы   \n",
       "83244  https://www.youtube.com/channel/UCUT1XWGIx6MxW...     Мультфильмы   \n",
       "83352  https://www.youtube.com/channel/UCUT1XWGIx6MxW...     Мультфильмы   \n",
       "83367  https://www.youtube.com/channel/UCUT1XWGIx6MxW...     Мультфильмы   \n",
       "\n",
       "       flag_closed  international language  \n",
       "57             0.0            0.0      NaN  \n",
       "63             0.0            0.0      NaN  \n",
       "73             0.0            0.0      NaN  \n",
       "106            0.0            0.0      NaN  \n",
       "117            0.0            0.0      NaN  \n",
       "...            ...            ...      ...  \n",
       "82980          0.0            0.0      NaN  \n",
       "83215          0.0            0.0      NaN  \n",
       "83244          0.0            0.0      NaN  \n",
       "83352          0.0            0.0      NaN  \n",
       "83367          0.0            0.0      NaN  \n",
       "\n",
       "[1095 rows x 16 columns]"
      ]
     },
     "execution_count": 14,
     "metadata": {},
     "output_type": "execute_result"
    }
   ],
   "source": [
    "df_train.query('yt_channel_id == \"UCUT1XWGIx6MxWmtPsGYcBEg\"')"
   ]
  },
  {
   "cell_type": "code",
   "execution_count": 15,
   "id": "252e3546",
   "metadata": {
    "execution": {
     "iopub.execute_input": "2024-10-18T10:08:39.049249Z",
     "iopub.status.busy": "2024-10-18T10:08:39.048710Z",
     "iopub.status.idle": "2024-10-18T10:08:39.081525Z",
     "shell.execute_reply": "2024-10-18T10:08:39.080232Z"
    },
    "papermill": {
     "duration": 0.071902,
     "end_time": "2024-10-18T10:08:39.084380",
     "exception": false,
     "start_time": "2024-10-18T10:08:39.012478",
     "status": "completed"
    },
    "tags": []
   },
   "outputs": [
    {
     "data": {
      "text/html": [
       "<div>\n",
       "<style scoped>\n",
       "    .dataframe tbody tr th:only-of-type {\n",
       "        vertical-align: middle;\n",
       "    }\n",
       "\n",
       "    .dataframe tbody tr th {\n",
       "        vertical-align: top;\n",
       "    }\n",
       "\n",
       "    .dataframe thead th {\n",
       "        text-align: right;\n",
       "    }\n",
       "</style>\n",
       "<table border=\"1\" class=\"dataframe\">\n",
       "  <thead>\n",
       "    <tr style=\"text-align: right;\">\n",
       "      <th></th>\n",
       "      <th>date</th>\n",
       "      <th>reel_name</th>\n",
       "      <th>yt_reel_id</th>\n",
       "      <th>cartoon</th>\n",
       "      <th>url</th>\n",
       "      <th>text</th>\n",
       "      <th>seconds</th>\n",
       "      <th>is_shorts</th>\n",
       "      <th>broadcast</th>\n",
       "      <th>yt_channel_id</th>\n",
       "      <th>yt_channel_name</th>\n",
       "      <th>yt_ch_url</th>\n",
       "      <th>yt_channel_type</th>\n",
       "      <th>flag_closed</th>\n",
       "      <th>international</th>\n",
       "      <th>language</th>\n",
       "    </tr>\n",
       "  </thead>\n",
       "  <tbody>\n",
       "  </tbody>\n",
       "</table>\n",
       "</div>"
      ],
      "text/plain": [
       "Empty DataFrame\n",
       "Columns: [date, reel_name, yt_reel_id, cartoon, url, text, seconds, is_shorts, broadcast, yt_channel_id, yt_channel_name, yt_ch_url, yt_channel_type, flag_closed, international, language]\n",
       "Index: []"
      ]
     },
     "execution_count": 15,
     "metadata": {},
     "output_type": "execute_result"
    }
   ],
   "source": [
    "df_train.query('yt_channel_id == \"UCUT1XWGIx6MxWmtPsGYcBEg\" & cartoon!=\"none\"')"
   ]
  },
  {
   "cell_type": "code",
   "execution_count": 16,
   "id": "e5417688",
   "metadata": {
    "execution": {
     "iopub.execute_input": "2024-10-18T10:08:39.150832Z",
     "iopub.status.busy": "2024-10-18T10:08:39.150256Z",
     "iopub.status.idle": "2024-10-18T10:08:39.159176Z",
     "shell.execute_reply": "2024-10-18T10:08:39.157919Z"
    },
    "papermill": {
     "duration": 0.047287,
     "end_time": "2024-10-18T10:08:39.162823",
     "exception": false,
     "start_time": "2024-10-18T10:08:39.115536",
     "status": "completed"
    },
    "tags": []
   },
   "outputs": [
    {
     "data": {
      "text/plain": [
       "(83411, 16)"
      ]
     },
     "execution_count": 16,
     "metadata": {},
     "output_type": "execute_result"
    }
   ],
   "source": [
    "df_train.shape"
   ]
  },
  {
   "cell_type": "markdown",
   "id": "2f26ac77",
   "metadata": {
    "papermill": {
     "duration": 0.031505,
     "end_time": "2024-10-18T10:08:39.225181",
     "exception": false,
     "start_time": "2024-10-18T10:08:39.193676",
     "status": "completed"
    },
    "tags": []
   },
   "source": [
    "#### Посмотри зависимость между id канала и целевой переменной"
   ]
  },
  {
   "cell_type": "code",
   "execution_count": 17,
   "id": "244c0d14",
   "metadata": {
    "execution": {
     "iopub.execute_input": "2024-10-18T10:08:39.289738Z",
     "iopub.status.busy": "2024-10-18T10:08:39.289266Z",
     "iopub.status.idle": "2024-10-18T10:08:39.376297Z",
     "shell.execute_reply": "2024-10-18T10:08:39.374999Z"
    },
    "papermill": {
     "duration": 0.122363,
     "end_time": "2024-10-18T10:08:39.379052",
     "exception": false,
     "start_time": "2024-10-18T10:08:39.256689",
     "status": "completed"
    },
    "tags": []
   },
   "outputs": [
    {
     "data": {
      "text/html": [
       "<div>\n",
       "<style scoped>\n",
       "    .dataframe tbody tr th:only-of-type {\n",
       "        vertical-align: middle;\n",
       "    }\n",
       "\n",
       "    .dataframe tbody tr th {\n",
       "        vertical-align: top;\n",
       "    }\n",
       "\n",
       "    .dataframe thead th {\n",
       "        text-align: right;\n",
       "    }\n",
       "</style>\n",
       "<table border=\"1\" class=\"dataframe\">\n",
       "  <thead>\n",
       "    <tr style=\"text-align: right;\">\n",
       "      <th></th>\n",
       "      <th></th>\n",
       "      <th></th>\n",
       "      <th>yt_reel_id</th>\n",
       "    </tr>\n",
       "    <tr>\n",
       "      <th>yt_channel_id</th>\n",
       "      <th>yt_channel_name</th>\n",
       "      <th>cartoon</th>\n",
       "      <th></th>\n",
       "    </tr>\n",
       "  </thead>\n",
       "  <tbody>\n",
       "    <tr>\n",
       "      <th>UC-Bc-4nV2-Tk4Af2rqrmrjA</th>\n",
       "      <th>HomeAnimations Мультики про тан</th>\n",
       "      <th>none</th>\n",
       "      <td>748</td>\n",
       "    </tr>\n",
       "    <tr>\n",
       "      <th rowspan=\"2\" valign=\"top\">UC-C8a01ToQqaNCozQbNa9pg</th>\n",
       "      <th rowspan=\"2\" valign=\"top\">Мультфильмы Серия Kids Cartoons</th>\n",
       "      <th>none</th>\n",
       "      <td>230</td>\n",
       "    </tr>\n",
       "    <tr>\n",
       "      <th>Свинка Пеппа</th>\n",
       "      <td>4</td>\n",
       "    </tr>\n",
       "    <tr>\n",
       "      <th rowspan=\"2\" valign=\"top\">UC-jHNWViReG6R_kJ6b45FdQ</th>\n",
       "      <th rowspan=\"2\" valign=\"top\">Family Box</th>\n",
       "      <th>My little pony</th>\n",
       "      <td>1</td>\n",
       "    </tr>\n",
       "    <tr>\n",
       "      <th>none</th>\n",
       "      <td>778</td>\n",
       "    </tr>\n",
       "    <tr>\n",
       "      <th>...</th>\n",
       "      <th>...</th>\n",
       "      <th>...</th>\n",
       "      <td>...</td>\n",
       "    </tr>\n",
       "    <tr>\n",
       "      <th rowspan=\"3\" valign=\"top\">UCxWkNmkeAL52VTJyBlIJRXw</th>\n",
       "      <th rowspan=\"3\" valign=\"top\">Теремок ТВ</th>\n",
       "      <th>Сумка</th>\n",
       "      <td>3</td>\n",
       "    </tr>\n",
       "    <tr>\n",
       "      <th>Трансформеры</th>\n",
       "      <td>20</td>\n",
       "    </tr>\n",
       "    <tr>\n",
       "      <th>Царевны</th>\n",
       "      <td>3</td>\n",
       "    </tr>\n",
       "    <tr>\n",
       "      <th>UCy1D4WGprdBxv0FaC6IH-wg</th>\n",
       "      <th>Лум Планет</th>\n",
       "      <th>none</th>\n",
       "      <td>624</td>\n",
       "    </tr>\n",
       "    <tr>\n",
       "      <th>UCzHZHO-Z_fR56iOpGWNgzfQ</th>\n",
       "      <th>Короткая анимация</th>\n",
       "      <th>none</th>\n",
       "      <td>559</td>\n",
       "    </tr>\n",
       "  </tbody>\n",
       "</table>\n",
       "<p>399 rows × 1 columns</p>\n",
       "</div>"
      ],
      "text/plain": [
       "                                                                         yt_reel_id\n",
       "yt_channel_id            yt_channel_name                 cartoon                   \n",
       "UC-Bc-4nV2-Tk4Af2rqrmrjA HomeAnimations Мультики про тан none                   748\n",
       "UC-C8a01ToQqaNCozQbNa9pg Мультфильмы Серия Kids Cartoons none                   230\n",
       "                                                         Свинка Пеппа             4\n",
       "UC-jHNWViReG6R_kJ6b45FdQ Family Box                      My little pony           1\n",
       "                                                         none                   778\n",
       "...                                                                             ...\n",
       "UCxWkNmkeAL52VTJyBlIJRXw Теремок ТВ                      Сумка                    3\n",
       "                                                         Трансформеры            20\n",
       "                                                         Царевны                  3\n",
       "UCy1D4WGprdBxv0FaC6IH-wg Лум Планет                      none                   624\n",
       "UCzHZHO-Z_fR56iOpGWNgzfQ Короткая анимация               none                   559\n",
       "\n",
       "[399 rows x 1 columns]"
      ]
     },
     "execution_count": 17,
     "metadata": {},
     "output_type": "execute_result"
    }
   ],
   "source": [
    "df_train.pivot_table(index=['yt_channel_id', 'yt_channel_name','cartoon'], values='yt_reel_id', aggfunc='count')\n"
   ]
  },
  {
   "cell_type": "code",
   "execution_count": 18,
   "id": "8299d2f0",
   "metadata": {
    "execution": {
     "iopub.execute_input": "2024-10-18T10:08:39.444318Z",
     "iopub.status.busy": "2024-10-18T10:08:39.443840Z",
     "iopub.status.idle": "2024-10-18T10:08:39.453671Z",
     "shell.execute_reply": "2024-10-18T10:08:39.452181Z"
    },
    "papermill": {
     "duration": 0.046472,
     "end_time": "2024-10-18T10:08:39.457031",
     "exception": false,
     "start_time": "2024-10-18T10:08:39.410559",
     "status": "completed"
    },
    "tags": []
   },
   "outputs": [
    {
     "data": {
      "text/plain": [
       "array([ 0.,  1., nan])"
      ]
     },
     "execution_count": 18,
     "metadata": {},
     "output_type": "execute_result"
    }
   ],
   "source": [
    "df_train['international'].unique()"
   ]
  },
  {
   "cell_type": "markdown",
   "id": "b7c4cbe1",
   "metadata": {
    "papermill": {
     "duration": 0.034579,
     "end_time": "2024-10-18T10:08:39.533953",
     "exception": false,
     "start_time": "2024-10-18T10:08:39.499374",
     "status": "completed"
    },
    "tags": []
   },
   "source": [
    "#### Заполним пропуски в столбце internatonal 2, что для наc означает unknown"
   ]
  },
  {
   "cell_type": "code",
   "execution_count": 19,
   "id": "f9eaa34f",
   "metadata": {
    "execution": {
     "iopub.execute_input": "2024-10-18T10:08:39.600452Z",
     "iopub.status.busy": "2024-10-18T10:08:39.599970Z",
     "iopub.status.idle": "2024-10-18T10:08:39.607667Z",
     "shell.execute_reply": "2024-10-18T10:08:39.606322Z"
    },
    "papermill": {
     "duration": 0.043827,
     "end_time": "2024-10-18T10:08:39.610517",
     "exception": false,
     "start_time": "2024-10-18T10:08:39.566690",
     "status": "completed"
    },
    "tags": []
   },
   "outputs": [],
   "source": [
    "df_train['international'] = df_train['international'].fillna(2)"
   ]
  },
  {
   "cell_type": "code",
   "execution_count": 20,
   "id": "f4f9cf38",
   "metadata": {
    "execution": {
     "iopub.execute_input": "2024-10-18T10:08:39.677426Z",
     "iopub.status.busy": "2024-10-18T10:08:39.676961Z",
     "iopub.status.idle": "2024-10-18T10:08:39.686123Z",
     "shell.execute_reply": "2024-10-18T10:08:39.684676Z"
    },
    "papermill": {
     "duration": 0.046148,
     "end_time": "2024-10-18T10:08:39.689066",
     "exception": false,
     "start_time": "2024-10-18T10:08:39.642918",
     "status": "completed"
    },
    "tags": []
   },
   "outputs": [
    {
     "data": {
      "text/plain": [
       "array([0., 1., 2.])"
      ]
     },
     "execution_count": 20,
     "metadata": {},
     "output_type": "execute_result"
    }
   ],
   "source": [
    "df_train['international'].unique()"
   ]
  },
  {
   "cell_type": "code",
   "execution_count": 21,
   "id": "517ca85a",
   "metadata": {
    "execution": {
     "iopub.execute_input": "2024-10-18T10:08:39.756858Z",
     "iopub.status.busy": "2024-10-18T10:08:39.756334Z",
     "iopub.status.idle": "2024-10-18T10:08:39.783617Z",
     "shell.execute_reply": "2024-10-18T10:08:39.782181Z"
    },
    "papermill": {
     "duration": 0.066138,
     "end_time": "2024-10-18T10:08:39.788135",
     "exception": false,
     "start_time": "2024-10-18T10:08:39.721997",
     "status": "completed"
    },
    "tags": []
   },
   "outputs": [
    {
     "data": {
      "text/html": [
       "<div>\n",
       "<style scoped>\n",
       "    .dataframe tbody tr th:only-of-type {\n",
       "        vertical-align: middle;\n",
       "    }\n",
       "\n",
       "    .dataframe tbody tr th {\n",
       "        vertical-align: top;\n",
       "    }\n",
       "\n",
       "    .dataframe thead th {\n",
       "        text-align: right;\n",
       "    }\n",
       "</style>\n",
       "<table border=\"1\" class=\"dataframe\">\n",
       "  <thead>\n",
       "    <tr style=\"text-align: right;\">\n",
       "      <th></th>\n",
       "      <th></th>\n",
       "      <th></th>\n",
       "      <th>yt_reel_id</th>\n",
       "    </tr>\n",
       "    <tr>\n",
       "      <th>yt_channel_id</th>\n",
       "      <th>yt_channel_name</th>\n",
       "      <th>cartoon</th>\n",
       "      <th></th>\n",
       "    </tr>\n",
       "  </thead>\n",
       "  <tbody>\n",
       "    <tr>\n",
       "      <th>UCHIRpb4QywIbwW_wfXjxvXQ</th>\n",
       "      <th>Енотки (arabic)</th>\n",
       "      <th>Енотки</th>\n",
       "      <td>92</td>\n",
       "    </tr>\n",
       "    <tr>\n",
       "      <th>UCWQjC5G2bSBarItYFvDL8VA</th>\n",
       "      <th>Енотки (spanish)</th>\n",
       "      <th>Енотки</th>\n",
       "      <td>122</td>\n",
       "    </tr>\n",
       "    <tr>\n",
       "      <th>UCsRz0yA3rhAHT32oWuIp-ow</th>\n",
       "      <th>Енотки (eng)</th>\n",
       "      <th>Енотки</th>\n",
       "      <td>113</td>\n",
       "    </tr>\n",
       "    <tr>\n",
       "      <th>UCwi1TkxjFSzu6xSONS46_ZQ</th>\n",
       "      <th>Оранжевая корова (eng)</th>\n",
       "      <th>Оранжевая корова</th>\n",
       "      <td>91</td>\n",
       "    </tr>\n",
       "    <tr>\n",
       "      <th>UCwpkLDoTh4pm4Lojk9tGWTQ</th>\n",
       "      <th>Оранжевая корова (spanish)</th>\n",
       "      <th>Оранжевая корова</th>\n",
       "      <td>79</td>\n",
       "    </tr>\n",
       "  </tbody>\n",
       "</table>\n",
       "</div>"
      ],
      "text/plain": [
       "                                                                      yt_reel_id\n",
       "yt_channel_id            yt_channel_name            cartoon                     \n",
       "UCHIRpb4QywIbwW_wfXjxvXQ Енотки (arabic)            Енотки                    92\n",
       "UCWQjC5G2bSBarItYFvDL8VA Енотки (spanish)           Енотки                   122\n",
       "UCsRz0yA3rhAHT32oWuIp-ow Енотки (eng)               Енотки                   113\n",
       "UCwi1TkxjFSzu6xSONS46_ZQ Оранжевая корова (eng)     Оранжевая корова          91\n",
       "UCwpkLDoTh4pm4Lojk9tGWTQ Оранжевая корова (spanish) Оранжевая корова          79"
      ]
     },
     "execution_count": 21,
     "metadata": {},
     "output_type": "execute_result"
    }
   ],
   "source": [
    "df_train.query('international == 1.').pivot_table(index=['yt_channel_id', 'yt_channel_name','cartoon'], values='yt_reel_id', aggfunc='count')"
   ]
  },
  {
   "cell_type": "code",
   "execution_count": 22,
   "id": "cbdfcae9",
   "metadata": {
    "execution": {
     "iopub.execute_input": "2024-10-18T10:08:39.858232Z",
     "iopub.status.busy": "2024-10-18T10:08:39.857710Z",
     "iopub.status.idle": "2024-10-18T10:08:39.889417Z",
     "shell.execute_reply": "2024-10-18T10:08:39.888056Z"
    },
    "papermill": {
     "duration": 0.06836,
     "end_time": "2024-10-18T10:08:39.892714",
     "exception": false,
     "start_time": "2024-10-18T10:08:39.824354",
     "status": "completed"
    },
    "tags": []
   },
   "outputs": [
    {
     "data": {
      "text/html": [
       "<div>\n",
       "<style scoped>\n",
       "    .dataframe tbody tr th:only-of-type {\n",
       "        vertical-align: middle;\n",
       "    }\n",
       "\n",
       "    .dataframe tbody tr th {\n",
       "        vertical-align: top;\n",
       "    }\n",
       "\n",
       "    .dataframe thead th {\n",
       "        text-align: right;\n",
       "    }\n",
       "</style>\n",
       "<table border=\"1\" class=\"dataframe\">\n",
       "  <thead>\n",
       "    <tr style=\"text-align: right;\">\n",
       "      <th></th>\n",
       "      <th>date</th>\n",
       "      <th>reel_name</th>\n",
       "      <th>yt_reel_id</th>\n",
       "      <th>cartoon</th>\n",
       "      <th>url</th>\n",
       "      <th>text</th>\n",
       "      <th>seconds</th>\n",
       "      <th>is_shorts</th>\n",
       "      <th>broadcast</th>\n",
       "      <th>yt_channel_id</th>\n",
       "      <th>yt_channel_name</th>\n",
       "      <th>yt_ch_url</th>\n",
       "      <th>yt_channel_type</th>\n",
       "      <th>flag_closed</th>\n",
       "      <th>international</th>\n",
       "      <th>language</th>\n",
       "    </tr>\n",
       "  </thead>\n",
       "  <tbody>\n",
       "  </tbody>\n",
       "</table>\n",
       "</div>"
      ],
      "text/plain": [
       "Empty DataFrame\n",
       "Columns: [date, reel_name, yt_reel_id, cartoon, url, text, seconds, is_shorts, broadcast, yt_channel_id, yt_channel_name, yt_ch_url, yt_channel_type, flag_closed, international, language]\n",
       "Index: []"
      ]
     },
     "execution_count": 22,
     "metadata": {},
     "output_type": "execute_result"
    }
   ],
   "source": [
    "df_train.query('international.isna() & ~(yt_channel_id.isna())')"
   ]
  },
  {
   "cell_type": "code",
   "execution_count": 23,
   "id": "9909e0ae",
   "metadata": {
    "execution": {
     "iopub.execute_input": "2024-10-18T10:08:39.962013Z",
     "iopub.status.busy": "2024-10-18T10:08:39.961496Z",
     "iopub.status.idle": "2024-10-18T10:08:39.980906Z",
     "shell.execute_reply": "2024-10-18T10:08:39.979410Z"
    },
    "papermill": {
     "duration": 0.057898,
     "end_time": "2024-10-18T10:08:39.984239",
     "exception": false,
     "start_time": "2024-10-18T10:08:39.926341",
     "status": "completed"
    },
    "tags": []
   },
   "outputs": [
    {
     "data": {
      "text/plain": [
       "array(['none', 'Акуленок'], dtype=object)"
      ]
     },
     "execution_count": 23,
     "metadata": {},
     "output_type": "execute_result"
    }
   ],
   "source": [
    "df_train.query('yt_channel_name == \"Котёнок Котэ Песенки и мультики\"')['cartoon'].unique()"
   ]
  },
  {
   "cell_type": "markdown",
   "id": "c1fba031",
   "metadata": {
    "papermill": {
     "duration": 0.037781,
     "end_time": "2024-10-18T10:08:40.056136",
     "exception": false,
     "start_time": "2024-10-18T10:08:40.018355",
     "status": "completed"
    },
    "tags": []
   },
   "source": [
    "#### Заполним пропуски в признаке yt_channel_id на unknown"
   ]
  },
  {
   "cell_type": "code",
   "execution_count": 24,
   "id": "6ac10862",
   "metadata": {
    "execution": {
     "iopub.execute_input": "2024-10-18T10:08:40.125573Z",
     "iopub.status.busy": "2024-10-18T10:08:40.125073Z",
     "iopub.status.idle": "2024-10-18T10:08:40.158223Z",
     "shell.execute_reply": "2024-10-18T10:08:40.156604Z"
    },
    "papermill": {
     "duration": 0.072357,
     "end_time": "2024-10-18T10:08:40.161956",
     "exception": false,
     "start_time": "2024-10-18T10:08:40.089599",
     "status": "completed"
    },
    "tags": []
   },
   "outputs": [
    {
     "data": {
      "text/plain": [
       "0"
      ]
     },
     "metadata": {},
     "output_type": "display_data"
    }
   ],
   "source": [
    "df_train['yt_channel_id'] = df_train['yt_channel_id'].fillna('unknown')\n",
    "display(df_train['yt_channel_id'].isna().sum())"
   ]
  },
  {
   "cell_type": "markdown",
   "id": "12cc7c0d",
   "metadata": {
    "papermill": {
     "duration": 0.032019,
     "end_time": "2024-10-18T10:08:40.227326",
     "exception": false,
     "start_time": "2024-10-18T10:08:40.195307",
     "status": "completed"
    },
    "tags": []
   },
   "source": [
    "#### Переведен на английский два признака reel_name и text на английский в обучаующей и тестовой выборке\n",
    "Предварительно написав функции для обной строки (на вход она получает строку датасета, переводит на английский содержимое столбца, еа выходе возвращает перевод, если не получается перевести, то значение unknownю затем датасеты с обучающими и тестовыми данными сохраняем в новые файлы и далее работаем с ними."
   ]
  },
  {
   "cell_type": "code",
   "execution_count": 25,
   "id": "351a8df8",
   "metadata": {
    "execution": {
     "iopub.execute_input": "2024-10-18T10:08:40.294772Z",
     "iopub.status.busy": "2024-10-18T10:08:40.294288Z",
     "iopub.status.idle": "2024-10-18T10:08:40.300202Z",
     "shell.execute_reply": "2024-10-18T10:08:40.298859Z"
    },
    "papermill": {
     "duration": 0.04334,
     "end_time": "2024-10-18T10:08:40.303217",
     "exception": false,
     "start_time": "2024-10-18T10:08:40.259877",
     "status": "completed"
    },
    "tags": []
   },
   "outputs": [],
   "source": [
    "translator = Translator()"
   ]
  },
  {
   "cell_type": "code",
   "execution_count": 26,
   "id": "148a3799",
   "metadata": {
    "execution": {
     "iopub.execute_input": "2024-10-18T10:08:40.373573Z",
     "iopub.status.busy": "2024-10-18T10:08:40.373099Z",
     "iopub.status.idle": "2024-10-18T10:08:40.378869Z",
     "shell.execute_reply": "2024-10-18T10:08:40.377475Z"
    },
    "papermill": {
     "duration": 0.043322,
     "end_time": "2024-10-18T10:08:40.381705",
     "exception": false,
     "start_time": "2024-10-18T10:08:40.338383",
     "status": "completed"
    },
    "tags": []
   },
   "outputs": [],
   "source": [
    "def get_translate (row):\n",
    "    try:\n",
    "        translation_name = translator.translate(row['reel_name'], dest=\"en\")\n",
    "        return translation_name.text\n",
    "    except:\n",
    "        return \"unknown\""
   ]
  },
  {
   "cell_type": "code",
   "execution_count": 27,
   "id": "9c3e5043",
   "metadata": {
    "execution": {
     "iopub.execute_input": "2024-10-18T10:08:40.450887Z",
     "iopub.status.busy": "2024-10-18T10:08:40.449708Z",
     "iopub.status.idle": "2024-10-18T10:08:40.455438Z",
     "shell.execute_reply": "2024-10-18T10:08:40.454190Z"
    },
    "papermill": {
     "duration": 0.04326,
     "end_time": "2024-10-18T10:08:40.458445",
     "exception": false,
     "start_time": "2024-10-18T10:08:40.415185",
     "status": "completed"
    },
    "tags": []
   },
   "outputs": [],
   "source": [
    "def get_translate_1 (row):\n",
    "    try:\n",
    "        translation_text = translator.translate(row['text'], dest=\"en\")\n",
    "        return translation_text.text\n",
    "    except:\n",
    "        return \"unknown\""
   ]
  },
  {
   "cell_type": "code",
   "execution_count": 28,
   "id": "5a4308dd",
   "metadata": {
    "execution": {
     "iopub.execute_input": "2024-10-18T10:08:40.527291Z",
     "iopub.status.busy": "2024-10-18T10:08:40.526837Z",
     "iopub.status.idle": "2024-10-18T10:08:40.532028Z",
     "shell.execute_reply": "2024-10-18T10:08:40.530727Z"
    },
    "papermill": {
     "duration": 0.043926,
     "end_time": "2024-10-18T10:08:40.534624",
     "exception": false,
     "start_time": "2024-10-18T10:08:40.490698",
     "status": "completed"
    },
    "tags": []
   },
   "outputs": [],
   "source": [
    "df_train.info()"
   ]
  },
  {
   "cell_type": "code",
   "execution_count": 29,
   "id": "6a2a5b9a",
   "metadata": {
    "execution": {
     "iopub.execute_input": "2024-10-18T10:08:40.601969Z",
     "iopub.status.busy": "2024-10-18T10:08:40.601506Z",
     "iopub.status.idle": "2024-10-18T10:08:40.607476Z",
     "shell.execute_reply": "2024-10-18T10:08:40.606074Z"
    },
    "papermill": {
     "duration": 0.042565,
     "end_time": "2024-10-18T10:08:40.610089",
     "exception": false,
     "start_time": "2024-10-18T10:08:40.567524",
     "status": "completed"
    },
    "tags": []
   },
   "outputs": [],
   "source": [
    "df_train['reel_name_eng'] = df_train.apply(get_translate, axis=1)"
   ]
  },
  {
   "cell_type": "code",
   "execution_count": 30,
   "id": "6bb6d94a",
   "metadata": {
    "execution": {
     "iopub.execute_input": "2024-10-18T10:08:40.678130Z",
     "iopub.status.busy": "2024-10-18T10:08:40.677654Z",
     "iopub.status.idle": "2024-10-18T10:08:40.682810Z",
     "shell.execute_reply": "2024-10-18T10:08:40.681495Z"
    },
    "papermill": {
     "duration": 0.041502,
     "end_time": "2024-10-18T10:08:40.685622",
     "exception": false,
     "start_time": "2024-10-18T10:08:40.644120",
     "status": "completed"
    },
    "tags": []
   },
   "outputs": [],
   "source": [
    "df_train['text_eng'] = df_train.apply(get_translate_1, axis=1)"
   ]
  },
  {
   "cell_type": "code",
   "execution_count": 31,
   "id": "7cad79e8",
   "metadata": {
    "execution": {
     "iopub.execute_input": "2024-10-18T10:08:40.752597Z",
     "iopub.status.busy": "2024-10-18T10:08:40.751726Z",
     "iopub.status.idle": "2024-10-18T10:08:40.757355Z",
     "shell.execute_reply": "2024-10-18T10:08:40.756113Z"
    },
    "papermill": {
     "duration": 0.042287,
     "end_time": "2024-10-18T10:08:40.760241",
     "exception": false,
     "start_time": "2024-10-18T10:08:40.717954",
     "status": "completed"
    },
    "tags": []
   },
   "outputs": [],
   "source": [
    "df_train.to_csv('df_train_eng_full.csv', index=False)"
   ]
  },
  {
   "cell_type": "code",
   "execution_count": 33,
   "id": "7cb003ab",
   "metadata": {
    "execution": {
     "iopub.execute_input": "2024-10-18T10:08:40.904039Z",
     "iopub.status.busy": "2024-10-18T10:08:40.903539Z",
     "iopub.status.idle": "2024-10-18T10:08:40.909107Z",
     "shell.execute_reply": "2024-10-18T10:08:40.907835Z"
    },
    "papermill": {
     "duration": 0.042108,
     "end_time": "2024-10-18T10:08:40.911778",
     "exception": false,
     "start_time": "2024-10-18T10:08:40.869670",
     "status": "completed"
    },
    "tags": []
   },
   "outputs": [],
   "source": [
    "df_test['reel_name_eng'] = df_test.apply(get_translate, axis=1)"
   ]
  },
  {
   "cell_type": "code",
   "execution_count": 34,
   "id": "9d9e1138",
   "metadata": {
    "execution": {
     "iopub.execute_input": "2024-10-18T10:08:40.978729Z",
     "iopub.status.busy": "2024-10-18T10:08:40.978258Z",
     "iopub.status.idle": "2024-10-18T10:08:40.983553Z",
     "shell.execute_reply": "2024-10-18T10:08:40.982353Z"
    },
    "papermill": {
     "duration": 0.041959,
     "end_time": "2024-10-18T10:08:40.986349",
     "exception": false,
     "start_time": "2024-10-18T10:08:40.944390",
     "status": "completed"
    },
    "tags": []
   },
   "outputs": [],
   "source": [
    "df_test['text_eng'] = df_test.apply(get_translate_1, axis=1)"
   ]
  },
  {
   "cell_type": "code",
   "execution_count": 35,
   "id": "472991ec",
   "metadata": {
    "execution": {
     "iopub.execute_input": "2024-10-18T10:08:41.054054Z",
     "iopub.status.busy": "2024-10-18T10:08:41.052613Z",
     "iopub.status.idle": "2024-10-18T10:08:41.058592Z",
     "shell.execute_reply": "2024-10-18T10:08:41.057306Z"
    },
    "papermill": {
     "duration": 0.042934,
     "end_time": "2024-10-18T10:08:41.061607",
     "exception": false,
     "start_time": "2024-10-18T10:08:41.018673",
     "status": "completed"
    },
    "tags": []
   },
   "outputs": [],
   "source": [
    "df_test.to_csv('df_test_eng.csv', index=False)"
   ]
  },
  {
   "cell_type": "markdown",
   "id": "14cc54aa",
   "metadata": {
    "papermill": {
     "duration": 0.032377,
     "end_time": "2024-10-18T10:08:41.126029",
     "exception": false,
     "start_time": "2024-10-18T10:08:41.093652",
     "status": "completed"
    },
    "tags": []
   },
   "source": [
    "### Загрузим новый датасет с переводм на английский для обучающей выборки, посмотрим общую информацию и поверим все ли данные переведены"
   ]
  },
  {
   "cell_type": "code",
   "execution_count": 36,
   "id": "e631f61c",
   "metadata": {
    "execution": {
     "iopub.execute_input": "2024-10-18T10:08:41.192101Z",
     "iopub.status.busy": "2024-10-18T10:08:41.191621Z",
     "iopub.status.idle": "2024-10-18T10:08:48.300128Z",
     "shell.execute_reply": "2024-10-18T10:08:48.298624Z"
    },
    "papermill": {
     "duration": 7.145187,
     "end_time": "2024-10-18T10:08:48.303089",
     "exception": false,
     "start_time": "2024-10-18T10:08:41.157902",
     "status": "completed"
    },
    "tags": []
   },
   "outputs": [],
   "source": [
    "df_train_eng = pd.read_csv('/kaggle/input/multfilm/df_train_eng_full.csv', lineterminator='\\n')"
   ]
  },
  {
   "cell_type": "code",
   "execution_count": 37,
   "id": "a581eb22",
   "metadata": {
    "execution": {
     "iopub.execute_input": "2024-10-18T10:08:48.372122Z",
     "iopub.status.busy": "2024-10-18T10:08:48.371482Z",
     "iopub.status.idle": "2024-10-18T10:08:48.515915Z",
     "shell.execute_reply": "2024-10-18T10:08:48.514570Z"
    },
    "papermill": {
     "duration": 0.183729,
     "end_time": "2024-10-18T10:08:48.518960",
     "exception": false,
     "start_time": "2024-10-18T10:08:48.335231",
     "status": "completed"
    },
    "tags": []
   },
   "outputs": [
    {
     "name": "stdout",
     "output_type": "stream",
     "text": [
      "<class 'pandas.core.frame.DataFrame'>\n",
      "RangeIndex: 83411 entries, 0 to 83410\n",
      "Data columns (total 18 columns):\n",
      " #   Column           Non-Null Count  Dtype  \n",
      "---  ------           --------------  -----  \n",
      " 0   date             83411 non-null  object \n",
      " 1   reel_name        83408 non-null  object \n",
      " 2   yt_reel_id       83411 non-null  object \n",
      " 3   cartoon          83411 non-null  object \n",
      " 4   url              83411 non-null  object \n",
      " 5   text             83411 non-null  object \n",
      " 6   seconds          74653 non-null  float64\n",
      " 7   is_shorts        74653 non-null  float64\n",
      " 8   broadcast        74653 non-null  object \n",
      " 9   yt_channel_id    83411 non-null  object \n",
      " 10  yt_channel_name  83363 non-null  object \n",
      " 11  yt_ch_url        83363 non-null  object \n",
      " 12  yt_channel_type  83363 non-null  object \n",
      " 13  flag_closed      83363 non-null  float64\n",
      " 14  international    83411 non-null  float64\n",
      " 15  language         497 non-null    object \n",
      " 16  reel_name_eng    83411 non-null  object \n",
      " 17  text_eng         83411 non-null  object \n",
      "dtypes: float64(4), object(14)\n",
      "memory usage: 11.5+ MB\n"
     ]
    }
   ],
   "source": [
    "df_train_eng.info()"
   ]
  },
  {
   "cell_type": "markdown",
   "id": "3f109735",
   "metadata": {
    "papermill": {
     "duration": 0.032006,
     "end_time": "2024-10-18T10:08:48.583388",
     "exception": false,
     "start_time": "2024-10-18T10:08:48.551382",
     "status": "completed"
    },
    "tags": []
   },
   "source": [
    "### Загрузим новый датасет с переводм на английский для тестовой выборки, посмотрим общую информацию и поверим все ли данные переведены"
   ]
  },
  {
   "cell_type": "markdown",
   "id": "b29a64b9",
   "metadata": {
    "papermill": {
     "duration": 0.031969,
     "end_time": "2024-10-18T10:08:48.648749",
     "exception": false,
     "start_time": "2024-10-18T10:08:48.616780",
     "status": "completed"
    },
    "tags": []
   },
   "source": [
    "### Тестовая выборка"
   ]
  },
  {
   "cell_type": "code",
   "execution_count": 38,
   "id": "4c8c6fe2",
   "metadata": {
    "execution": {
     "iopub.execute_input": "2024-10-18T10:08:48.715040Z",
     "iopub.status.busy": "2024-10-18T10:08:48.714542Z",
     "iopub.status.idle": "2024-10-18T10:08:53.380321Z",
     "shell.execute_reply": "2024-10-18T10:08:53.379092Z"
    },
    "papermill": {
     "duration": 4.702618,
     "end_time": "2024-10-18T10:08:53.383373",
     "exception": false,
     "start_time": "2024-10-18T10:08:48.680755",
     "status": "completed"
    },
    "tags": []
   },
   "outputs": [],
   "source": [
    "df_test_eng = pd.read_csv('/kaggle/input/multfilm/df_test_eng.csv', lineterminator='\\n')"
   ]
  },
  {
   "cell_type": "code",
   "execution_count": 39,
   "id": "d82f6901",
   "metadata": {
    "execution": {
     "iopub.execute_input": "2024-10-18T10:08:53.456466Z",
     "iopub.status.busy": "2024-10-18T10:08:53.455972Z",
     "iopub.status.idle": "2024-10-18T10:08:53.552391Z",
     "shell.execute_reply": "2024-10-18T10:08:53.550519Z"
    },
    "papermill": {
     "duration": 0.135405,
     "end_time": "2024-10-18T10:08:53.555425",
     "exception": false,
     "start_time": "2024-10-18T10:08:53.420020",
     "status": "completed"
    },
    "tags": []
   },
   "outputs": [
    {
     "name": "stdout",
     "output_type": "stream",
     "text": [
      "<class 'pandas.core.frame.DataFrame'>\n",
      "RangeIndex: 55608 entries, 0 to 55607\n",
      "Data columns (total 17 columns):\n",
      " #   Column           Non-Null Count  Dtype  \n",
      "---  ------           --------------  -----  \n",
      " 0   date             55608 non-null  object \n",
      " 1   reel_name        55605 non-null  object \n",
      " 2   yt_reel_id       55608 non-null  object \n",
      " 3   url              55608 non-null  object \n",
      " 4   text             55608 non-null  object \n",
      " 5   seconds          49807 non-null  float64\n",
      " 6   is_shorts        49807 non-null  float64\n",
      " 7   broadcast        49807 non-null  object \n",
      " 8   yt_channel_id    55584 non-null  object \n",
      " 9   yt_channel_name  55580 non-null  object \n",
      " 10  yt_ch_url        55580 non-null  object \n",
      " 11  yt_channel_type  55580 non-null  object \n",
      " 12  flag_closed      55580 non-null  float64\n",
      " 13  international    55580 non-null  float64\n",
      " 14  language         337 non-null    object \n",
      " 15  reel_name_eng    55608 non-null  object \n",
      " 16  text_eng         55608 non-null  object \n",
      "dtypes: float64(4), object(13)\n",
      "memory usage: 7.2+ MB\n"
     ]
    }
   ],
   "source": [
    "df_test_eng.info()"
   ]
  },
  {
   "cell_type": "markdown",
   "id": "56f1cdd6",
   "metadata": {
    "papermill": {
     "duration": 0.032067,
     "end_time": "2024-10-18T10:08:53.621270",
     "exception": false,
     "start_time": "2024-10-18T10:08:53.589203",
     "status": "completed"
    },
    "tags": []
   },
   "source": [
    "## Увеличим количество признаков попробовав достать из названия роликов на оригиналбном языке именнованные сущности"
   ]
  },
  {
   "cell_type": "code",
   "execution_count": 40,
   "id": "0b430469",
   "metadata": {
    "execution": {
     "iopub.execute_input": "2024-10-18T10:08:53.689309Z",
     "iopub.status.busy": "2024-10-18T10:08:53.688730Z",
     "iopub.status.idle": "2024-10-18T10:09:16.929282Z",
     "shell.execute_reply": "2024-10-18T10:09:16.927263Z"
    },
    "papermill": {
     "duration": 23.278667,
     "end_time": "2024-10-18T10:09:16.932485",
     "exception": false,
     "start_time": "2024-10-18T10:08:53.653818",
     "status": "completed"
    },
    "tags": []
   },
   "outputs": [
    {
     "name": "stdout",
     "output_type": "stream",
     "text": [
      "Collecting spacy==3.8.0\r\n",
      "  Downloading spacy-3.8.0-cp310-cp310-manylinux_2_17_x86_64.manylinux2014_x86_64.whl.metadata (27 kB)\r\n",
      "Requirement already satisfied: spacy-legacy<3.1.0,>=3.0.11 in /opt/conda/lib/python3.10/site-packages (from spacy==3.8.0) (3.0.12)\r\n",
      "Requirement already satisfied: spacy-loggers<2.0.0,>=1.0.0 in /opt/conda/lib/python3.10/site-packages (from spacy==3.8.0) (1.0.5)\r\n",
      "Requirement already satisfied: murmurhash<1.1.0,>=0.28.0 in /opt/conda/lib/python3.10/site-packages (from spacy==3.8.0) (1.0.10)\r\n",
      "Requirement already satisfied: cymem<2.1.0,>=2.0.2 in /opt/conda/lib/python3.10/site-packages (from spacy==3.8.0) (2.0.8)\r\n",
      "Requirement already satisfied: preshed<3.1.0,>=3.0.2 in /opt/conda/lib/python3.10/site-packages (from spacy==3.8.0) (3.0.9)\r\n",
      "Requirement already satisfied: thinc<8.3.0,>=8.2.2 in /opt/conda/lib/python3.10/site-packages (from spacy==3.8.0) (8.2.5)\r\n",
      "Requirement already satisfied: wasabi<1.2.0,>=0.9.1 in /opt/conda/lib/python3.10/site-packages (from spacy==3.8.0) (1.1.3)\r\n",
      "Requirement already satisfied: srsly<3.0.0,>=2.4.3 in /opt/conda/lib/python3.10/site-packages (from spacy==3.8.0) (2.4.8)\r\n",
      "Requirement already satisfied: catalogue<2.1.0,>=2.0.6 in /opt/conda/lib/python3.10/site-packages (from spacy==3.8.0) (2.0.10)\r\n",
      "Requirement already satisfied: weasel<0.5.0,>=0.1.0 in /opt/conda/lib/python3.10/site-packages (from spacy==3.8.0) (0.4.1)\r\n",
      "Requirement already satisfied: typer<1.0.0,>=0.3.0 in /opt/conda/lib/python3.10/site-packages (from spacy==3.8.0) (0.12.3)\r\n",
      "Requirement already satisfied: tqdm<5.0.0,>=4.38.0 in /opt/conda/lib/python3.10/site-packages (from spacy==3.8.0) (4.66.4)\r\n",
      "Requirement already satisfied: requests<3.0.0,>=2.13.0 in /opt/conda/lib/python3.10/site-packages (from spacy==3.8.0) (2.32.3)\r\n",
      "Requirement already satisfied: pydantic!=1.8,!=1.8.1,<3.0.0,>=1.7.4 in /opt/conda/lib/python3.10/site-packages (from spacy==3.8.0) (2.9.2)\r\n",
      "Requirement already satisfied: jinja2 in /opt/conda/lib/python3.10/site-packages (from spacy==3.8.0) (3.1.4)\r\n",
      "Requirement already satisfied: setuptools in /opt/conda/lib/python3.10/site-packages (from spacy==3.8.0) (70.0.0)\r\n",
      "Requirement already satisfied: packaging>=20.0 in /opt/conda/lib/python3.10/site-packages (from spacy==3.8.0) (21.3)\r\n",
      "Requirement already satisfied: langcodes<4.0.0,>=3.2.0 in /opt/conda/lib/python3.10/site-packages (from spacy==3.8.0) (3.4.0)\r\n",
      "Requirement already satisfied: numpy>=1.19.0 in /opt/conda/lib/python3.10/site-packages (from spacy==3.8.0) (1.26.4)\r\n",
      "Requirement already satisfied: language-data>=1.2 in /opt/conda/lib/python3.10/site-packages (from langcodes<4.0.0,>=3.2.0->spacy==3.8.0) (1.2.0)\r\n",
      "Requirement already satisfied: pyparsing!=3.0.5,>=2.0.2 in /opt/conda/lib/python3.10/site-packages (from packaging>=20.0->spacy==3.8.0) (3.1.2)\r\n",
      "Requirement already satisfied: annotated-types>=0.6.0 in /opt/conda/lib/python3.10/site-packages (from pydantic!=1.8,!=1.8.1,<3.0.0,>=1.7.4->spacy==3.8.0) (0.7.0)\r\n",
      "Requirement already satisfied: pydantic-core==2.23.4 in /opt/conda/lib/python3.10/site-packages (from pydantic!=1.8,!=1.8.1,<3.0.0,>=1.7.4->spacy==3.8.0) (2.23.4)\r\n",
      "Requirement already satisfied: typing-extensions>=4.6.1 in /opt/conda/lib/python3.10/site-packages (from pydantic!=1.8,!=1.8.1,<3.0.0,>=1.7.4->spacy==3.8.0) (4.12.2)\r\n",
      "Requirement already satisfied: charset-normalizer<4,>=2 in /opt/conda/lib/python3.10/site-packages (from requests<3.0.0,>=2.13.0->spacy==3.8.0) (3.3.2)\r\n",
      "Requirement already satisfied: idna<4,>=2.5 in /opt/conda/lib/python3.10/site-packages (from requests<3.0.0,>=2.13.0->spacy==3.8.0) (2.10)\r\n",
      "Requirement already satisfied: urllib3<3,>=1.21.1 in /opt/conda/lib/python3.10/site-packages (from requests<3.0.0,>=2.13.0->spacy==3.8.0) (1.26.18)\r\n",
      "Requirement already satisfied: certifi>=2017.4.17 in /opt/conda/lib/python3.10/site-packages (from requests<3.0.0,>=2.13.0->spacy==3.8.0) (2024.8.30)\r\n",
      "Requirement already satisfied: blis<0.8.0,>=0.7.8 in /opt/conda/lib/python3.10/site-packages (from thinc<8.3.0,>=8.2.2->spacy==3.8.0) (0.7.11)\r\n",
      "Requirement already satisfied: confection<1.0.0,>=0.0.1 in /opt/conda/lib/python3.10/site-packages (from thinc<8.3.0,>=8.2.2->spacy==3.8.0) (0.1.5)\r\n",
      "Requirement already satisfied: click>=8.0.0 in /opt/conda/lib/python3.10/site-packages (from typer<1.0.0,>=0.3.0->spacy==3.8.0) (8.1.7)\r\n",
      "Requirement already satisfied: shellingham>=1.3.0 in /opt/conda/lib/python3.10/site-packages (from typer<1.0.0,>=0.3.0->spacy==3.8.0) (1.5.4)\r\n",
      "Requirement already satisfied: rich>=10.11.0 in /opt/conda/lib/python3.10/site-packages (from typer<1.0.0,>=0.3.0->spacy==3.8.0) (13.7.1)\r\n",
      "Requirement already satisfied: cloudpathlib<1.0.0,>=0.7.0 in /opt/conda/lib/python3.10/site-packages (from weasel<0.5.0,>=0.1.0->spacy==3.8.0) (0.19.0)\r\n",
      "Requirement already satisfied: smart-open<8.0.0,>=5.2.1 in /opt/conda/lib/python3.10/site-packages (from weasel<0.5.0,>=0.1.0->spacy==3.8.0) (7.0.4)\r\n",
      "Requirement already satisfied: MarkupSafe>=2.0 in /opt/conda/lib/python3.10/site-packages (from jinja2->spacy==3.8.0) (2.1.5)\r\n",
      "Requirement already satisfied: marisa-trie>=0.7.7 in /opt/conda/lib/python3.10/site-packages (from language-data>=1.2->langcodes<4.0.0,>=3.2.0->spacy==3.8.0) (1.2.0)\r\n",
      "Requirement already satisfied: markdown-it-py>=2.2.0 in /opt/conda/lib/python3.10/site-packages (from rich>=10.11.0->typer<1.0.0,>=0.3.0->spacy==3.8.0) (3.0.0)\r\n",
      "Requirement already satisfied: pygments<3.0.0,>=2.13.0 in /opt/conda/lib/python3.10/site-packages (from rich>=10.11.0->typer<1.0.0,>=0.3.0->spacy==3.8.0) (2.18.0)\r\n",
      "Requirement already satisfied: wrapt in /opt/conda/lib/python3.10/site-packages (from smart-open<8.0.0,>=5.2.1->weasel<0.5.0,>=0.1.0->spacy==3.8.0) (1.16.0)\r\n",
      "Requirement already satisfied: mdurl~=0.1 in /opt/conda/lib/python3.10/site-packages (from markdown-it-py>=2.2.0->rich>=10.11.0->typer<1.0.0,>=0.3.0->spacy==3.8.0) (0.1.2)\r\n",
      "\u001b[33mWARNING: The candidate selected for download or install is a yanked version: 'spacy' candidate (version 3.8.0 at https://files.pythonhosted.org/packages/98/49/3912221c3284238a00df872e602fd361b29932286caa249b40838f8a1c1c/spacy-3.8.0-cp310-cp310-manylinux_2_17_x86_64.manylinux2014_x86_64.whl (from https://pypi.org/simple/spacy/) (requires-python:>=3.7))\r\n",
      "Reason for being yanked: model compatibility problem\u001b[0m\u001b[33m\r\n",
      "\u001b[0mDownloading spacy-3.8.0-cp310-cp310-manylinux_2_17_x86_64.manylinux2014_x86_64.whl (29.0 MB)\r\n",
      "\u001b[2K   \u001b[90m━━━━━━━━━━━━━━━━━━━━━━━━━━━━━━━━━━━━━━━━\u001b[0m \u001b[32m29.0/29.0 MB\u001b[0m \u001b[31m41.2 MB/s\u001b[0m eta \u001b[36m0:00:00\u001b[0m\r\n",
      "\u001b[?25hInstalling collected packages: spacy\r\n",
      "  Attempting uninstall: spacy\r\n",
      "    Found existing installation: spacy 3.7.6\r\n",
      "    Uninstalling spacy-3.7.6:\r\n",
      "      Successfully uninstalled spacy-3.7.6\r\n",
      "\u001b[31mERROR: pip's dependency resolver does not currently take into account all the packages that are installed. This behaviour is the source of the following dependency conflicts.\r\n",
      "en-core-web-lg 3.7.1 requires spacy<3.8.0,>=3.7.2, but you have spacy 3.8.0 which is incompatible.\r\n",
      "en-core-web-sm 3.7.1 requires spacy<3.8.0,>=3.7.2, but you have spacy 3.8.0 which is incompatible.\u001b[0m\u001b[31m\r\n",
      "\u001b[0mSuccessfully installed spacy-3.8.0\r\n"
     ]
    }
   ],
   "source": [
    "!pip install spacy==3.8.0"
   ]
  },
  {
   "cell_type": "code",
   "execution_count": 41,
   "id": "2d4f9ccc",
   "metadata": {
    "execution": {
     "iopub.execute_input": "2024-10-18T10:09:17.009567Z",
     "iopub.status.busy": "2024-10-18T10:09:17.009029Z",
     "iopub.status.idle": "2024-10-18T10:09:19.086713Z",
     "shell.execute_reply": "2024-10-18T10:09:19.085383Z"
    },
    "papermill": {
     "duration": 2.119393,
     "end_time": "2024-10-18T10:09:19.090291",
     "exception": false,
     "start_time": "2024-10-18T10:09:16.970898",
     "status": "completed"
    },
    "tags": []
   },
   "outputs": [],
   "source": [
    "import spacy"
   ]
  },
  {
   "cell_type": "code",
   "execution_count": 42,
   "id": "6ad98133",
   "metadata": {
    "execution": {
     "iopub.execute_input": "2024-10-18T10:09:19.165303Z",
     "iopub.status.busy": "2024-10-18T10:09:19.164378Z",
     "iopub.status.idle": "2024-10-18T10:09:19.178819Z",
     "shell.execute_reply": "2024-10-18T10:09:19.177501Z"
    },
    "papermill": {
     "duration": 0.054964,
     "end_time": "2024-10-18T10:09:19.181927",
     "exception": false,
     "start_time": "2024-10-18T10:09:19.126963",
     "status": "completed"
    },
    "tags": []
   },
   "outputs": [],
   "source": [
    "from spacy.lang.ru.examples import sentences "
   ]
  },
  {
   "cell_type": "code",
   "execution_count": 43,
   "id": "ca9cc0e2",
   "metadata": {
    "execution": {
     "iopub.execute_input": "2024-10-18T10:09:19.253910Z",
     "iopub.status.busy": "2024-10-18T10:09:19.253415Z",
     "iopub.status.idle": "2024-10-18T10:09:20.712995Z",
     "shell.execute_reply": "2024-10-18T10:09:20.711440Z"
    },
    "papermill": {
     "duration": 1.499026,
     "end_time": "2024-10-18T10:09:20.716124",
     "exception": false,
     "start_time": "2024-10-18T10:09:19.217098",
     "status": "completed"
    },
    "tags": []
   },
   "outputs": [
    {
     "name": "stderr",
     "output_type": "stream",
     "text": [
      "/opt/conda/lib/python3.10/site-packages/spacy/util.py:910: UserWarning: [W095] Model 'en_core_web_sm' (3.7.1) was trained with spaCy v3.7.2 and may not be 100% compatible with the current version (3.8.0). If you see errors or degraded performance, download a newer compatible model or retrain your custom model with the current spaCy version. For more details and available updates, run: python -m spacy validate\n",
      "  warnings.warn(warn_msg)\n"
     ]
    }
   ],
   "source": [
    "nlpsp_eng = spacy.load('en_core_web_sm')"
   ]
  },
  {
   "cell_type": "code",
   "execution_count": 44,
   "id": "88f4e8a3",
   "metadata": {
    "execution": {
     "iopub.execute_input": "2024-10-18T10:09:20.850535Z",
     "iopub.status.busy": "2024-10-18T10:09:20.849483Z",
     "iopub.status.idle": "2024-10-18T10:09:20.855919Z",
     "shell.execute_reply": "2024-10-18T10:09:20.854773Z"
    },
    "papermill": {
     "duration": 0.107274,
     "end_time": "2024-10-18T10:09:20.858676",
     "exception": false,
     "start_time": "2024-10-18T10:09:20.751402",
     "status": "completed"
    },
    "tags": []
   },
   "outputs": [],
   "source": [
    "def get_named_entities(text):\n",
    "    try:\n",
    "        doc = nlpsp_eng(text)\n",
    "        named_entities = [X.text for X in doc.ents]\n",
    "        return named_entities\n",
    "    except:\n",
    "        return 'no'"
   ]
  },
  {
   "cell_type": "code",
   "execution_count": 45,
   "id": "42739746",
   "metadata": {
    "execution": {
     "iopub.execute_input": "2024-10-18T10:09:20.930607Z",
     "iopub.status.busy": "2024-10-18T10:09:20.930175Z",
     "iopub.status.idle": "2024-10-18T10:22:00.807095Z",
     "shell.execute_reply": "2024-10-18T10:22:00.804954Z"
    },
    "papermill": {
     "duration": 759.916696,
     "end_time": "2024-10-18T10:22:00.810575",
     "exception": false,
     "start_time": "2024-10-18T10:09:20.893879",
     "status": "completed"
    },
    "tags": []
   },
   "outputs": [],
   "source": [
    "df_train_eng['name_ent'] = df_train_eng['reel_name_eng'].apply(get_named_entities)"
   ]
  },
  {
   "cell_type": "code",
   "execution_count": 46,
   "id": "315cbe9c",
   "metadata": {
    "execution": {
     "iopub.execute_input": "2024-10-18T10:22:00.883138Z",
     "iopub.status.busy": "2024-10-18T10:22:00.882641Z",
     "iopub.status.idle": "2024-10-18T10:22:00.913088Z",
     "shell.execute_reply": "2024-10-18T10:22:00.911835Z"
    },
    "papermill": {
     "duration": 0.069857,
     "end_time": "2024-10-18T10:22:00.915720",
     "exception": false,
     "start_time": "2024-10-18T10:22:00.845863",
     "status": "completed"
    },
    "tags": []
   },
   "outputs": [
    {
     "data": {
      "text/html": [
       "<div>\n",
       "<style scoped>\n",
       "    .dataframe tbody tr th:only-of-type {\n",
       "        vertical-align: middle;\n",
       "    }\n",
       "\n",
       "    .dataframe tbody tr th {\n",
       "        vertical-align: top;\n",
       "    }\n",
       "\n",
       "    .dataframe thead th {\n",
       "        text-align: right;\n",
       "    }\n",
       "</style>\n",
       "<table border=\"1\" class=\"dataframe\">\n",
       "  <thead>\n",
       "    <tr style=\"text-align: right;\">\n",
       "      <th></th>\n",
       "      <th>date</th>\n",
       "      <th>reel_name</th>\n",
       "      <th>yt_reel_id</th>\n",
       "      <th>cartoon</th>\n",
       "      <th>url</th>\n",
       "      <th>text</th>\n",
       "      <th>seconds</th>\n",
       "      <th>is_shorts</th>\n",
       "      <th>broadcast</th>\n",
       "      <th>yt_channel_id</th>\n",
       "      <th>yt_channel_name</th>\n",
       "      <th>yt_ch_url</th>\n",
       "      <th>yt_channel_type</th>\n",
       "      <th>flag_closed</th>\n",
       "      <th>international</th>\n",
       "      <th>language</th>\n",
       "      <th>reel_name_eng</th>\n",
       "      <th>text_eng</th>\n",
       "      <th>name_ent</th>\n",
       "    </tr>\n",
       "  </thead>\n",
       "  <tbody>\n",
       "    <tr>\n",
       "      <th>0</th>\n",
       "      <td>2023-12-30</td>\n",
       "      <td>100 подарков и только один можно оставить себе</td>\n",
       "      <td>PyGZL_fCbSc</td>\n",
       "      <td>none</td>\n",
       "      <td>https://www.youtube.com/watch?v=PyGZL_fCbSc</td>\n",
       "      <td>[100 подарков и только один можно оставить себе]</td>\n",
       "      <td>1854.0</td>\n",
       "      <td>0.0</td>\n",
       "      <td>none</td>\n",
       "      <td>UCcartHVtvAUzfajflyeT_Gg</td>\n",
       "      <td>Miss Katy</td>\n",
       "      <td>https://www.youtube.com/channel/UCcartHVtvAUzf...</td>\n",
       "      <td>Блогеры</td>\n",
       "      <td>0.0</td>\n",
       "      <td>0.0</td>\n",
       "      <td>NaN</td>\n",
       "      <td>100 gifts and only one you can keep for yourself</td>\n",
       "      <td>[100 gifts and only one you can keep]</td>\n",
       "      <td>[100, only one]</td>\n",
       "    </tr>\n",
       "    <tr>\n",
       "      <th>1</th>\n",
       "      <td>2018-06-29</td>\n",
       "      <td>ЗАБАГАЛИ Лизу в Реальной Жизни АРТУР и НАСТЯ F...</td>\n",
       "      <td>Lcp0pFZF4eQ</td>\n",
       "      <td>none</td>\n",
       "      <td>https://www.youtube.com/watch?v=Lcp0pFZF4eQ</td>\n",
       "      <td>[ЗАБАГАЛИ Лизу в Реальной Жизни АРТУР и НАСТЯ ...</td>\n",
       "      <td>602.0</td>\n",
       "      <td>0.0</td>\n",
       "      <td>none</td>\n",
       "      <td>UCWI7puXzGTPuxsoW2HD3XxQ</td>\n",
       "      <td>Boys and Toys</td>\n",
       "      <td>https://youtube.com/channel/UCWI7puXzGTPuxsoW2...</td>\n",
       "      <td>Блогеры</td>\n",
       "      <td>0.0</td>\n",
       "      <td>0.0</td>\n",
       "      <td>NaN</td>\n",
       "      <td>BUGGED Lisa in Real Life ARTHUR and NASTYA Fol...</td>\n",
       "      <td>[LIZA BUGGED in Real Life ARTHUR and NASTYA Fo...</td>\n",
       "      <td>[]</td>\n",
       "    </tr>\n",
       "    <tr>\n",
       "      <th>2</th>\n",
       "      <td>2023-11-26</td>\n",
       "      <td>Грозная семейка  Лучшие СЕСТРИНСКИЕ моменты  с...</td>\n",
       "      <td>z8d6LbiBRnk</td>\n",
       "      <td>none</td>\n",
       "      <td>https://www.youtube.com/watch?v=z8d6LbiBRnk</td>\n",
       "      <td>[Грозная семейка  Лучшие СЕСТРИНСКИЕ моменты  ...</td>\n",
       "      <td>3604.0</td>\n",
       "      <td>0.0</td>\n",
       "      <td>none</td>\n",
       "      <td>UCw3vK8lNe5SZzL--rMgq-CQ</td>\n",
       "      <td>Nickelodeon_Cyrillic</td>\n",
       "      <td>https://youtube.com/channel/UCw3vK8lNe5SZzL--r...</td>\n",
       "      <td>Мультфильмы</td>\n",
       "      <td>0.0</td>\n",
       "      <td>0.0</td>\n",
       "      <td>NaN</td>\n",
       "      <td>The Terrible Family Best SISTERLY moments with...</td>\n",
       "      <td>[Terrible Family Best SISTER moments with Chlo...</td>\n",
       "      <td>[SISTERLY, Chloe, Phoebe, Nora, The Terrible F...</td>\n",
       "    </tr>\n",
       "    <tr>\n",
       "      <th>3</th>\n",
       "      <td>2016-05-30</td>\n",
       "      <td>Как сделать ожерелье из ткани своими руками</td>\n",
       "      <td>0iu0p_Y8DjM</td>\n",
       "      <td>none</td>\n",
       "      <td>https://www.youtube.com/watch?v=0iu0p_Y8DjM</td>\n",
       "      <td>[Как сделать ожерелье из ткани своими руками] ...</td>\n",
       "      <td>264.0</td>\n",
       "      <td>0.0</td>\n",
       "      <td>none</td>\n",
       "      <td>UCq1JpGFxcZTbbOAz010U-og</td>\n",
       "      <td>Трум Трум</td>\n",
       "      <td>https://youtube.com/channel/UCq1JpGFxcZTbbOAz0...</td>\n",
       "      <td>Блогеры</td>\n",
       "      <td>0.0</td>\n",
       "      <td>0.0</td>\n",
       "      <td>NaN</td>\n",
       "      <td>How to make a fabric necklace with your own hands</td>\n",
       "      <td>[How to make a fabric necklace with your own h...</td>\n",
       "      <td>[]</td>\n",
       "    </tr>\n",
       "    <tr>\n",
       "      <th>4</th>\n",
       "      <td>2023-07-06</td>\n",
       "      <td>Sleepover Rules  Om Nom Stories  Cartoon for k...</td>\n",
       "      <td>rYwOVp_Edjw</td>\n",
       "      <td>none</td>\n",
       "      <td>https://www.youtube.com/watch?v=rYwOVp_Edjw</td>\n",
       "      <td>[Sleepover Rules  Om Nom Stories  Cartoon for ...</td>\n",
       "      <td>42899.0</td>\n",
       "      <td>0.0</td>\n",
       "      <td>none</td>\n",
       "      <td>UCniI-BQk7qAtXNmmz40LSdg</td>\n",
       "      <td>Kedoo Toons TV Funny Animations</td>\n",
       "      <td>https://youtube.com/channel/UCniI-BQk7qAtXNmmz...</td>\n",
       "      <td>Мультфильмы</td>\n",
       "      <td>0.0</td>\n",
       "      <td>0.0</td>\n",
       "      <td>NaN</td>\n",
       "      <td>Sleepover Rules  Om Nom Stories  Cartoon for k...</td>\n",
       "      <td>[Sleepover Rules  Om Nom Stories  Cartoon for ...</td>\n",
       "      <td>[Kedoo Toons TV]</td>\n",
       "    </tr>\n",
       "  </tbody>\n",
       "</table>\n",
       "</div>"
      ],
      "text/plain": [
       "         date                                          reel_name   yt_reel_id  \\\n",
       "0  2023-12-30     100 подарков и только один можно оставить себе  PyGZL_fCbSc   \n",
       "1  2018-06-29  ЗАБАГАЛИ Лизу в Реальной Жизни АРТУР и НАСТЯ F...  Lcp0pFZF4eQ   \n",
       "2  2023-11-26  Грозная семейка  Лучшие СЕСТРИНСКИЕ моменты  с...  z8d6LbiBRnk   \n",
       "3  2016-05-30        Как сделать ожерелье из ткани своими руками  0iu0p_Y8DjM   \n",
       "4  2023-07-06  Sleepover Rules  Om Nom Stories  Cartoon for k...  rYwOVp_Edjw   \n",
       "\n",
       "  cartoon                                          url  \\\n",
       "0    none  https://www.youtube.com/watch?v=PyGZL_fCbSc   \n",
       "1    none  https://www.youtube.com/watch?v=Lcp0pFZF4eQ   \n",
       "2    none  https://www.youtube.com/watch?v=z8d6LbiBRnk   \n",
       "3    none  https://www.youtube.com/watch?v=0iu0p_Y8DjM   \n",
       "4    none  https://www.youtube.com/watch?v=rYwOVp_Edjw   \n",
       "\n",
       "                                                text  seconds  is_shorts  \\\n",
       "0  [100 подарков и только один можно оставить себе]    1854.0        0.0   \n",
       "1  [ЗАБАГАЛИ Лизу в Реальной Жизни АРТУР и НАСТЯ ...    602.0        0.0   \n",
       "2  [Грозная семейка  Лучшие СЕСТРИНСКИЕ моменты  ...   3604.0        0.0   \n",
       "3  [Как сделать ожерелье из ткани своими руками] ...    264.0        0.0   \n",
       "4  [Sleepover Rules  Om Nom Stories  Cartoon for ...  42899.0        0.0   \n",
       "\n",
       "  broadcast             yt_channel_id                  yt_channel_name  \\\n",
       "0      none  UCcartHVtvAUzfajflyeT_Gg                        Miss Katy   \n",
       "1      none  UCWI7puXzGTPuxsoW2HD3XxQ                    Boys and Toys   \n",
       "2      none  UCw3vK8lNe5SZzL--rMgq-CQ             Nickelodeon_Cyrillic   \n",
       "3      none  UCq1JpGFxcZTbbOAz010U-og                        Трум Трум   \n",
       "4      none  UCniI-BQk7qAtXNmmz40LSdg  Kedoo Toons TV Funny Animations   \n",
       "\n",
       "                                           yt_ch_url yt_channel_type  \\\n",
       "0  https://www.youtube.com/channel/UCcartHVtvAUzf...         Блогеры   \n",
       "1  https://youtube.com/channel/UCWI7puXzGTPuxsoW2...         Блогеры   \n",
       "2  https://youtube.com/channel/UCw3vK8lNe5SZzL--r...     Мультфильмы   \n",
       "3  https://youtube.com/channel/UCq1JpGFxcZTbbOAz0...         Блогеры   \n",
       "4  https://youtube.com/channel/UCniI-BQk7qAtXNmmz...     Мультфильмы   \n",
       "\n",
       "   flag_closed  international language  \\\n",
       "0          0.0            0.0      NaN   \n",
       "1          0.0            0.0      NaN   \n",
       "2          0.0            0.0      NaN   \n",
       "3          0.0            0.0      NaN   \n",
       "4          0.0            0.0      NaN   \n",
       "\n",
       "                                       reel_name_eng  \\\n",
       "0   100 gifts and only one you can keep for yourself   \n",
       "1  BUGGED Lisa in Real Life ARTHUR and NASTYA Fol...   \n",
       "2  The Terrible Family Best SISTERLY moments with...   \n",
       "3  How to make a fabric necklace with your own hands   \n",
       "4  Sleepover Rules  Om Nom Stories  Cartoon for k...   \n",
       "\n",
       "                                            text_eng  \\\n",
       "0              [100 gifts and only one you can keep]   \n",
       "1  [LIZA BUGGED in Real Life ARTHUR and NASTYA Fo...   \n",
       "2  [Terrible Family Best SISTER moments with Chlo...   \n",
       "3  [How to make a fabric necklace with your own h...   \n",
       "4  [Sleepover Rules  Om Nom Stories  Cartoon for ...   \n",
       "\n",
       "                                            name_ent  \n",
       "0                                    [100, only one]  \n",
       "1                                                 []  \n",
       "2  [SISTERLY, Chloe, Phoebe, Nora, The Terrible F...  \n",
       "3                                                 []  \n",
       "4                                   [Kedoo Toons TV]  "
      ]
     },
     "execution_count": 46,
     "metadata": {},
     "output_type": "execute_result"
    }
   ],
   "source": [
    "df_train_eng.head()"
   ]
  },
  {
   "cell_type": "code",
   "execution_count": 47,
   "id": "94cfde46",
   "metadata": {
    "execution": {
     "iopub.execute_input": "2024-10-18T10:22:00.992380Z",
     "iopub.status.busy": "2024-10-18T10:22:00.991116Z",
     "iopub.status.idle": "2024-10-18T10:22:11.546273Z",
     "shell.execute_reply": "2024-10-18T10:22:11.544867Z"
    },
    "papermill": {
     "duration": 10.597762,
     "end_time": "2024-10-18T10:22:11.549470",
     "exception": false,
     "start_time": "2024-10-18T10:22:00.951708",
     "status": "completed"
    },
    "tags": []
   },
   "outputs": [],
   "source": [
    "df_train_eng.to_csv('df_train_eng_ent.csv', index=False)"
   ]
  },
  {
   "cell_type": "code",
   "execution_count": 48,
   "id": "d1821cdd",
   "metadata": {
    "execution": {
     "iopub.execute_input": "2024-10-18T10:22:11.625067Z",
     "iopub.status.busy": "2024-10-18T10:22:11.624559Z",
     "iopub.status.idle": "2024-10-18T10:30:29.367704Z",
     "shell.execute_reply": "2024-10-18T10:30:29.365717Z"
    },
    "papermill": {
     "duration": 497.786823,
     "end_time": "2024-10-18T10:30:29.371980",
     "exception": false,
     "start_time": "2024-10-18T10:22:11.585157",
     "status": "completed"
    },
    "tags": []
   },
   "outputs": [],
   "source": [
    "df_test_eng['name_ent'] = df_test_eng['reel_name_eng'].apply(get_named_entities)"
   ]
  },
  {
   "cell_type": "code",
   "execution_count": 49,
   "id": "bd3d0c3b",
   "metadata": {
    "execution": {
     "iopub.execute_input": "2024-10-18T10:30:29.458602Z",
     "iopub.status.busy": "2024-10-18T10:30:29.457065Z",
     "iopub.status.idle": "2024-10-18T10:30:29.490581Z",
     "shell.execute_reply": "2024-10-18T10:30:29.488554Z"
    },
    "papermill": {
     "duration": 0.078869,
     "end_time": "2024-10-18T10:30:29.495312",
     "exception": false,
     "start_time": "2024-10-18T10:30:29.416443",
     "status": "completed"
    },
    "tags": []
   },
   "outputs": [
    {
     "data": {
      "text/html": [
       "<div>\n",
       "<style scoped>\n",
       "    .dataframe tbody tr th:only-of-type {\n",
       "        vertical-align: middle;\n",
       "    }\n",
       "\n",
       "    .dataframe tbody tr th {\n",
       "        vertical-align: top;\n",
       "    }\n",
       "\n",
       "    .dataframe thead th {\n",
       "        text-align: right;\n",
       "    }\n",
       "</style>\n",
       "<table border=\"1\" class=\"dataframe\">\n",
       "  <thead>\n",
       "    <tr style=\"text-align: right;\">\n",
       "      <th></th>\n",
       "      <th>date</th>\n",
       "      <th>reel_name</th>\n",
       "      <th>yt_reel_id</th>\n",
       "      <th>url</th>\n",
       "      <th>text</th>\n",
       "      <th>seconds</th>\n",
       "      <th>is_shorts</th>\n",
       "      <th>broadcast</th>\n",
       "      <th>yt_channel_id</th>\n",
       "      <th>yt_channel_name</th>\n",
       "      <th>yt_ch_url</th>\n",
       "      <th>yt_channel_type</th>\n",
       "      <th>flag_closed</th>\n",
       "      <th>international</th>\n",
       "      <th>language</th>\n",
       "      <th>reel_name_eng</th>\n",
       "      <th>text_eng</th>\n",
       "      <th>name_ent</th>\n",
       "    </tr>\n",
       "  </thead>\n",
       "  <tbody>\n",
       "    <tr>\n",
       "      <th>0</th>\n",
       "      <td>2020-10-26</td>\n",
       "      <td>пять маленьких монстров  хэллоуин рифмы  потеш...</td>\n",
       "      <td>RBw4j0aMWyM</td>\n",
       "      <td>https://www.youtube.com/watch?v=RBw4j0aMWyM</td>\n",
       "      <td>[пять маленьких монстров  хэллоуин рифмы  поте...</td>\n",
       "      <td>960.0</td>\n",
       "      <td>0.0</td>\n",
       "      <td>none</td>\n",
       "      <td>UCfeljpDR__qqp-lLBJdiQkw</td>\n",
       "      <td>Kids Tv Russia песенки для дете</td>\n",
       "      <td>https://youtube.com/channel/UCfeljpDR__qqp-lLB...</td>\n",
       "      <td>Детские</td>\n",
       "      <td>0.0</td>\n",
       "      <td>0.0</td>\n",
       "      <td>NaN</td>\n",
       "      <td>five little monsters halloween rhymes nursery ...</td>\n",
       "      <td>[five little monsters halloween rhymes nursery...</td>\n",
       "      <td>[five, Kids Tv, Russia]</td>\n",
       "    </tr>\n",
       "    <tr>\n",
       "      <th>1</th>\n",
       "      <td>2024-03-24</td>\n",
       "      <td>Tractor mini Bulldozer to making concrete road...</td>\n",
       "      <td>5wTfpmlZe5k</td>\n",
       "      <td>https://www.youtube.com/watch?v=5wTfpmlZe5k</td>\n",
       "      <td>[Tractor mini Bulldozer to making concrete roa...</td>\n",
       "      <td>0.0</td>\n",
       "      <td>0.0</td>\n",
       "      <td>live</td>\n",
       "      <td>UCIDMp2rLX4G5C6eiypl9SFA</td>\n",
       "      <td>OneDayAlex</td>\n",
       "      <td>https://www.youtube.com/channel/UCIDMp2rLX4G5C...</td>\n",
       "      <td>Блогеры</td>\n",
       "      <td>0.0</td>\n",
       "      <td>0.0</td>\n",
       "      <td>NaN</td>\n",
       "      <td>Tractor mini Bulldozer to making concrete road...</td>\n",
       "      <td>[Tractor mini Bulldozer to making concrete roa...</td>\n",
       "      <td>[Bulldozer, Road Roller]</td>\n",
       "    </tr>\n",
       "    <tr>\n",
       "      <th>2</th>\n",
       "      <td>2020-06-28</td>\n",
       "      <td>Кто Последний ПЕРЕСТАНЕТ Ехать Выиграл  Челлендж</td>\n",
       "      <td>Fd9YA-oDjSo</td>\n",
       "      <td>https://www.youtube.com/watch?v=Fd9YA-oDjSo</td>\n",
       "      <td>[Кто Последний ПЕРЕСТАНЕТ Ехать Выиграл  Челле...</td>\n",
       "      <td>1599.0</td>\n",
       "      <td>0.0</td>\n",
       "      <td>none</td>\n",
       "      <td>UC2tsySbe9TNrI-xh2lximHA</td>\n",
       "      <td>A4</td>\n",
       "      <td>https://youtube.com/channel/UC2tsySbe9TNrI-xh2...</td>\n",
       "      <td>Блогеры</td>\n",
       "      <td>0.0</td>\n",
       "      <td>0.0</td>\n",
       "      <td>NaN</td>\n",
       "      <td>Who is the Last to STOP DRIVING Won the Challenge</td>\n",
       "      <td>[Who is the Last to STOP DRIVING Won the Chall...</td>\n",
       "      <td>[]</td>\n",
       "    </tr>\n",
       "    <tr>\n",
       "      <th>3</th>\n",
       "      <td>2018-07-27</td>\n",
       "      <td>Мультики про машинки и паровозики для детей. Р...</td>\n",
       "      <td>NXCHY_J-5v0</td>\n",
       "      <td>https://www.youtube.com/watch?v=NXCHY_J-5v0</td>\n",
       "      <td>[Мультики про машинки и паровозики для детей. ...</td>\n",
       "      <td>467.0</td>\n",
       "      <td>0.0</td>\n",
       "      <td>none</td>\n",
       "      <td>UC_J_9-qRfVtKIkq7SxxVbhQ</td>\n",
       "      <td>ТВ Деткам</td>\n",
       "      <td>https://youtube.com/channel/UC_J_9-qRfVtKIkq7S...</td>\n",
       "      <td>Детские</td>\n",
       "      <td>0.0</td>\n",
       "      <td>0.0</td>\n",
       "      <td>NaN</td>\n",
       "      <td>Cartoons about cars and trains for children. E...</td>\n",
       "      <td>[Cartoons about cars and trains for children. ...</td>\n",
       "      <td>[]</td>\n",
       "    </tr>\n",
       "    <tr>\n",
       "      <th>4</th>\n",
       "      <td>2021-04-03</td>\n",
       "      <td>СЛИШКОМ МАЛЕНЬКИЙ ПОРТАЛ В ЭНД В МАЙНКРАФТ ТОЛ...</td>\n",
       "      <td>XM-GRekoYzs</td>\n",
       "      <td>https://www.youtube.com/watch?v=XM-GRekoYzs</td>\n",
       "      <td>[СЛИШКОМ МАЛЕНЬКИЙ ПОРТАЛ В ЭНД В МАЙНКРАФТ ТО...</td>\n",
       "      <td>364.0</td>\n",
       "      <td>0.0</td>\n",
       "      <td>none</td>\n",
       "      <td>UCSmqZkD74x3TLt6eRM5GhTg</td>\n",
       "      <td>Dargas</td>\n",
       "      <td>https://youtube.com/channel/UCSmqZkD74x3TLt6eR...</td>\n",
       "      <td>Блогеры</td>\n",
       "      <td>0.0</td>\n",
       "      <td>0.0</td>\n",
       "      <td>NaN</td>\n",
       "      <td>TOO SMALL PORTAL TO END IN MINECRAFT ONLY 1 PL...</td>\n",
       "      <td>[TOO SMALL PORTAL TO END IN MINECRAFT ONLY 1 P...</td>\n",
       "      <td>[]</td>\n",
       "    </tr>\n",
       "  </tbody>\n",
       "</table>\n",
       "</div>"
      ],
      "text/plain": [
       "         date                                          reel_name   yt_reel_id  \\\n",
       "0  2020-10-26  пять маленьких монстров  хэллоуин рифмы  потеш...  RBw4j0aMWyM   \n",
       "1  2024-03-24  Tractor mini Bulldozer to making concrete road...  5wTfpmlZe5k   \n",
       "2  2020-06-28   Кто Последний ПЕРЕСТАНЕТ Ехать Выиграл  Челлендж  Fd9YA-oDjSo   \n",
       "3  2018-07-27  Мультики про машинки и паровозики для детей. Р...  NXCHY_J-5v0   \n",
       "4  2021-04-03  СЛИШКОМ МАЛЕНЬКИЙ ПОРТАЛ В ЭНД В МАЙНКРАФТ ТОЛ...  XM-GRekoYzs   \n",
       "\n",
       "                                           url  \\\n",
       "0  https://www.youtube.com/watch?v=RBw4j0aMWyM   \n",
       "1  https://www.youtube.com/watch?v=5wTfpmlZe5k   \n",
       "2  https://www.youtube.com/watch?v=Fd9YA-oDjSo   \n",
       "3  https://www.youtube.com/watch?v=NXCHY_J-5v0   \n",
       "4  https://www.youtube.com/watch?v=XM-GRekoYzs   \n",
       "\n",
       "                                                text  seconds  is_shorts  \\\n",
       "0  [пять маленьких монстров  хэллоуин рифмы  поте...    960.0        0.0   \n",
       "1  [Tractor mini Bulldozer to making concrete roa...      0.0        0.0   \n",
       "2  [Кто Последний ПЕРЕСТАНЕТ Ехать Выиграл  Челле...   1599.0        0.0   \n",
       "3  [Мультики про машинки и паровозики для детей. ...    467.0        0.0   \n",
       "4  [СЛИШКОМ МАЛЕНЬКИЙ ПОРТАЛ В ЭНД В МАЙНКРАФТ ТО...    364.0        0.0   \n",
       "\n",
       "  broadcast             yt_channel_id                  yt_channel_name  \\\n",
       "0      none  UCfeljpDR__qqp-lLBJdiQkw  Kids Tv Russia песенки для дете   \n",
       "1      live  UCIDMp2rLX4G5C6eiypl9SFA                       OneDayAlex   \n",
       "2      none  UC2tsySbe9TNrI-xh2lximHA                               A4   \n",
       "3      none  UC_J_9-qRfVtKIkq7SxxVbhQ                        ТВ Деткам   \n",
       "4      none  UCSmqZkD74x3TLt6eRM5GhTg                           Dargas   \n",
       "\n",
       "                                           yt_ch_url yt_channel_type  \\\n",
       "0  https://youtube.com/channel/UCfeljpDR__qqp-lLB...         Детские   \n",
       "1  https://www.youtube.com/channel/UCIDMp2rLX4G5C...         Блогеры   \n",
       "2  https://youtube.com/channel/UC2tsySbe9TNrI-xh2...         Блогеры   \n",
       "3  https://youtube.com/channel/UC_J_9-qRfVtKIkq7S...         Детские   \n",
       "4  https://youtube.com/channel/UCSmqZkD74x3TLt6eR...         Блогеры   \n",
       "\n",
       "   flag_closed  international language  \\\n",
       "0          0.0            0.0      NaN   \n",
       "1          0.0            0.0      NaN   \n",
       "2          0.0            0.0      NaN   \n",
       "3          0.0            0.0      NaN   \n",
       "4          0.0            0.0      NaN   \n",
       "\n",
       "                                       reel_name_eng  \\\n",
       "0  five little monsters halloween rhymes nursery ...   \n",
       "1  Tractor mini Bulldozer to making concrete road...   \n",
       "2  Who is the Last to STOP DRIVING Won the Challenge   \n",
       "3  Cartoons about cars and trains for children. E...   \n",
       "4  TOO SMALL PORTAL TO END IN MINECRAFT ONLY 1 PL...   \n",
       "\n",
       "                                            text_eng                  name_ent  \n",
       "0  [five little monsters halloween rhymes nursery...   [five, Kids Tv, Russia]  \n",
       "1  [Tractor mini Bulldozer to making concrete roa...  [Bulldozer, Road Roller]  \n",
       "2  [Who is the Last to STOP DRIVING Won the Chall...                        []  \n",
       "3  [Cartoons about cars and trains for children. ...                        []  \n",
       "4  [TOO SMALL PORTAL TO END IN MINECRAFT ONLY 1 P...                        []  "
      ]
     },
     "execution_count": 49,
     "metadata": {},
     "output_type": "execute_result"
    }
   ],
   "source": [
    "df_test_eng.head()"
   ]
  },
  {
   "cell_type": "code",
   "execution_count": 50,
   "id": "85b40270",
   "metadata": {
    "execution": {
     "iopub.execute_input": "2024-10-18T10:30:29.584682Z",
     "iopub.status.busy": "2024-10-18T10:30:29.584240Z",
     "iopub.status.idle": "2024-10-18T10:30:36.526679Z",
     "shell.execute_reply": "2024-10-18T10:30:36.525440Z"
    },
    "papermill": {
     "duration": 6.987478,
     "end_time": "2024-10-18T10:30:36.529650",
     "exception": false,
     "start_time": "2024-10-18T10:30:29.542172",
     "status": "completed"
    },
    "tags": []
   },
   "outputs": [],
   "source": [
    "df_test_eng.to_csv('df_test_eng_ent.csv', index=False)"
   ]
  }
 ],
 "metadata": {
  "kaggle": {
   "accelerator": "none",
   "dataSources": [
    {
     "databundleVersionId": 9752456,
     "sourceId": 85975,
     "sourceType": "competition"
    },
    {
     "databundleVersionId": 9884938,
     "datasetId": 5892490,
     "sourceId": 9657203,
     "sourceType": "datasetVersion"
    },
    {
     "sourceId": 201662150,
     "sourceType": "kernelVersion"
    }
   ],
   "dockerImageVersionId": 30775,
   "isGpuEnabled": false,
   "isInternetEnabled": true,
   "language": "python",
   "sourceType": "notebook"
  },
  "kernelspec": {
   "display_name": "Python 3 (ipykernel)",
   "language": "python",
   "name": "python3"
  },
  "language_info": {
   "codemirror_mode": {
    "name": "ipython",
    "version": 3
   },
   "file_extension": ".py",
   "mimetype": "text/x-python",
   "name": "python",
   "nbconvert_exporter": "python",
   "pygments_lexer": "ipython3",
   "version": "3.12.4"
  },
  "papermill": {
   "default_parameters": {},
   "duration": 1397.367308,
   "end_time": "2024-10-18T10:30:39.462514",
   "environment_variables": {},
   "exception": null,
   "input_path": "__notebook__.ipynb",
   "output_path": "__notebook__.ipynb",
   "parameters": {},
   "start_time": "2024-10-18T10:07:22.095206",
   "version": "2.6.0"
  }
 },
 "nbformat": 4,
 "nbformat_minor": 5
}
